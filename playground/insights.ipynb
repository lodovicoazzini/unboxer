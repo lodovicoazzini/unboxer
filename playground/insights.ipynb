{
 "cells": [
  {
   "cell_type": "code",
   "execution_count": 1,
   "outputs": [],
   "source": [
    "import pandas as pd\n",
    "%reload_ext autoreload\n",
    "%autoreload 2\n",
    "%matplotlib inline\n",
    "\n",
    "import warnings\n",
    "\n",
    "warnings.filterwarnings('ignore')"
   ],
   "metadata": {
    "collapsed": false,
    "pycharm": {
     "name": "#%%\n"
    }
   }
  },
  {
   "cell_type": "code",
   "execution_count": 2,
   "outputs": [
    {
     "name": "stderr",
     "output_type": "stream",
     "text": [
      "2022-03-31 15:16:28.680014: I tensorflow/core/platform/cpu_feature_guard.cc:151] This TensorFlow binary is optimized with oneAPI Deep Neural Network Library (oneDNN) to use the following CPU instructions in performance-critical operations:  SSE4.1 SSE4.2 AVX AVX2 FMA\n",
      "To enable them in other operations, rebuild TensorFlow with the appropriate compiler flags.\n"
     ]
    },
    {
     "name": "stdout",
     "output_type": "stream",
     "text": [
      "Train samples: 60000\n",
      "Test samples: 10000\n",
      "Data shape: (28, 28, 3)\n"
     ]
    }
   ],
   "source": [
    "# Import the data\n",
    "import tensorflow as tf\n",
    "from tensorflow.keras.utils import to_categorical\n",
    "\n",
    "from utils.dataset import get_train_test_data\n",
    "\n",
    "# get the train and test data in rgb format\n",
    "(train_data, train_labels), (test_data, test_labels) = get_train_test_data(rgb=True, verbose=True)\n",
    "# Turn the labels into one-bit-hot-encoding\n",
    "train_labels_cat, test_labels_cat = to_categorical(train_labels), to_categorical(test_labels)\n",
    "# convert the data to grayscale\n",
    "train_data_gs, test_data_gs = (\n",
    "    tf.image.rgb_to_grayscale(train_data).numpy(),\n",
    "    tf.image.rgb_to_grayscale(test_data).numpy()\n",
    ")"
   ],
   "metadata": {
    "collapsed": false,
    "pycharm": {
     "name": "#%%\n"
    }
   }
  },
  {
   "cell_type": "code",
   "execution_count": 3,
   "outputs": [
    {
     "name": "stdout",
     "output_type": "stream",
     "text": [
      "\n",
      "Found 892/10000 instances for the label 5\n",
      "Found 13/892 instances for misclassified 5\n",
      "        \n"
     ]
    }
   ],
   "source": [
    "from utils.dataset import get_data_masks\n",
    "import numpy as np\n",
    "\n",
    "# load the model\n",
    "classifier = tf.keras.models.load_model('../in/digit_classifier')\n",
    "\n",
    "# load the predictions\n",
    "predictions = np.loadtxt('../in/predictions.csv')\n",
    "predictions_cat = to_categorical(predictions, num_classes=len(set(train_labels)))\n",
    "\n",
    "# get the masks for the data\n",
    "mask_miss, mask_label = get_data_masks(test_labels, predictions, label=5, verbose=True)"
   ],
   "metadata": {
    "collapsed": false,
    "pycharm": {
     "name": "#%%\n"
    }
   }
  },
  {
   "cell_type": "code",
   "execution_count": 4,
   "outputs": [],
   "source": [
    "base_dir = '../out/insights'"
   ],
   "metadata": {
    "collapsed": false,
    "pycharm": {
     "name": "#%%\n"
    }
   }
  },
  {
   "cell_type": "code",
   "execution_count": 5,
   "outputs": [
    {
     "name": "stdout",
     "output_type": "stream",
     "text": [
      "\n",
      "APPROACH: LocalLatentMode\n",
      "EXPLAINER: GradCAMPP\n",
      "CLUS TECH: AffinityPropagation\n",
      "DIM RED TECH: ['TSNE']\n",
      "DIM RED TECH PARAMS: [{'angle': 0.5, 'early_exaggeration': 12.0, 'init': 'warn', 'learning_rate': 'warn', 'method': 'barnes_hut', 'metric': 'euclidean', 'min_grad_norm': 1e-07, 'n_components': 2, 'n_iter': 1000, 'n_iter_without_progress': 300, 'n_jobs': None, 'perplexity': 3, 'random_state': None, 'square_distances': 'legacy', 'verbose': 0}]\n",
      "            \n",
      "1/5 -> 0.40294697880744934\n",
      "2/5 -> 0.39510732889175415\n",
      "3/5 -> 0.40360793471336365\n",
      "4/5 -> 0.37686681747436523\n",
      "5/5 -> 0.38169243931770325\n",
      "\n",
      "APPROACH: LocalLatentMode\n",
      "EXPLAINER: SmoothGrad\n",
      "CLUS TECH: AffinityPropagation\n",
      "DIM RED TECH: ['TSNE']\n",
      "DIM RED TECH PARAMS: [{'angle': 0.5, 'early_exaggeration': 12.0, 'init': 'warn', 'learning_rate': 'warn', 'method': 'barnes_hut', 'metric': 'euclidean', 'min_grad_norm': 1e-07, 'n_components': 2, 'n_iter': 1000, 'n_iter_without_progress': 300, 'n_jobs': None, 'perplexity': 3, 'random_state': None, 'square_distances': 'legacy', 'verbose': 0}]\n",
      "            \n",
      "1/5 -> 0.412537544965744\n",
      "2/5 -> 0.4124471843242645\n",
      "3/5 -> 0.4138154089450836\n",
      "4/5 -> 0.4068133533000946\n",
      "5/5 -> 0.41112837195396423\n",
      "\n",
      "APPROACH: LocalLatentMode\n",
      "EXPLAINER: IntegratedGradients\n",
      "CLUS TECH: AffinityPropagation\n",
      "DIM RED TECH: ['TSNE']\n",
      "DIM RED TECH PARAMS: [{'angle': 0.5, 'early_exaggeration': 12.0, 'init': 'warn', 'learning_rate': 'warn', 'method': 'barnes_hut', 'metric': 'euclidean', 'min_grad_norm': 1e-07, 'n_components': 2, 'n_iter': 1000, 'n_iter_without_progress': 300, 'n_jobs': None, 'perplexity': 3, 'random_state': None, 'square_distances': 'legacy', 'verbose': 0}]\n",
      "            \n",
      "1/5 -> 0.4243932366371155\n",
      "2/5 -> 0.42342421412467957\n",
      "3/5 -> 0.42515596747398376\n",
      "4/5 -> 0.4219113290309906\n",
      "5/5 -> 0.42340388894081116\n",
      "\n",
      "APPROACH: LocalLatentMode\n",
      "EXPLAINER: Rise\n",
      "CLUS TECH: AffinityPropagation\n",
      "DIM RED TECH: ['TSNE']\n",
      "DIM RED TECH PARAMS: [{'angle': 0.5, 'early_exaggeration': 12.0, 'init': 'warn', 'learning_rate': 'warn', 'method': 'barnes_hut', 'metric': 'euclidean', 'min_grad_norm': 1e-07, 'n_components': 2, 'n_iter': 1000, 'n_iter_without_progress': 300, 'n_jobs': None, 'perplexity': 3, 'random_state': None, 'square_distances': 'legacy', 'verbose': 0}]\n",
      "            \n",
      "1/5 -> 0.4448062777519226\n",
      "2/5 -> NO CLUSTERS\n",
      "3/5 -> 0.4619138538837433\n",
      "4/5 -> NO CLUSTERS\n",
      "5/5 -> 0.48481839895248413\n",
      "\n",
      "APPROACH: LocalLatentMode\n",
      "EXPLAINER: KernelShap\n",
      "CLUS TECH: AffinityPropagation\n",
      "DIM RED TECH: ['TSNE']\n",
      "DIM RED TECH PARAMS: [{'angle': 0.5, 'early_exaggeration': 12.0, 'init': 'warn', 'learning_rate': 'warn', 'method': 'barnes_hut', 'metric': 'euclidean', 'min_grad_norm': 1e-07, 'n_components': 2, 'n_iter': 1000, 'n_iter_without_progress': 300, 'n_jobs': None, 'perplexity': 3, 'random_state': None, 'square_distances': 'legacy', 'verbose': 0}]\n",
      "            \n",
      "1/5 -> 0.48720383644104004\n",
      "2/5 -> 0.5131223797798157\n",
      "3/5 -> 0.47636374831199646\n",
      "4/5 -> 0.4739193320274353\n",
      "5/5 -> 0.47601765394210815\n",
      "\n",
      "APPROACH: LocalLatentMode\n",
      "EXPLAINER: Lime\n",
      "CLUS TECH: AffinityPropagation\n",
      "DIM RED TECH: ['TSNE']\n",
      "DIM RED TECH PARAMS: [{'angle': 0.5, 'early_exaggeration': 12.0, 'init': 'warn', 'learning_rate': 'warn', 'method': 'barnes_hut', 'metric': 'euclidean', 'min_grad_norm': 1e-07, 'n_components': 2, 'n_iter': 1000, 'n_iter_without_progress': 300, 'n_jobs': None, 'perplexity': 3, 'random_state': None, 'square_distances': 'legacy', 'verbose': 0}]\n",
      "            \n",
      "1/5 -> 0.48663151264190674\n",
      "2/5 -> 0.4767913818359375\n",
      "3/5 -> 0.4794001877307892\n",
      "4/5 -> 0.4914865493774414\n",
      "5/5 -> 0.5197952389717102\n"
     ]
    }
   ],
   "source": [
    "from utils.general import beep\n",
    "from workflow.tuning import find_optimal_clusters\n",
    "from xplique.attributions import GradCAMPP, SmoothGrad, IntegratedGradients, Rise, KernelShap, Lime\n",
    "from sklearn.cluster import AffinityPropagation\n",
    "from sklearn.manifold import TSNE\n",
    "from workflow.ClusteringMode import LocalLatentMode\n",
    "\n",
    "batch_size=64\n",
    "explainers = [\n",
    "        GradCAMPP(classifier),\n",
    "        SmoothGrad(classifier, nb_samples=50, noise=.3, batch_size=batch_size),\n",
    "        IntegratedGradients(classifier, steps=50, batch_size=batch_size),\n",
    "        Rise(classifier, nb_samples=4000, batch_size=batch_size),\n",
    "        KernelShap(classifier, nb_samples=1000),\n",
    "        Lime(classifier, nb_samples=1000)\n",
    "    ]\n",
    "\n",
    "approaches = [\n",
    "    LocalLatentMode(\n",
    "        mask=mask_label,\n",
    "        explainer=explainer,\n",
    "        dim_red_techs=[TSNE(perplexity=3)],\n",
    "        clus_tech=AffinityPropagation()\n",
    "    )\n",
    "    for explainer in explainers\n",
    "]\n",
    "\n",
    "local_latent_df = find_optimal_clusters(\n",
    "    approaches=approaches,\n",
    "    data=test_data,\n",
    "    predictions=predictions_cat,\n",
    "    iterations=5,\n",
    "    verbose=True\n",
    ")\n",
    "\n",
    "beep()"
   ],
   "metadata": {
    "collapsed": false,
    "pycharm": {
     "name": "#%%\n"
    }
   }
  },
  {
   "cell_type": "code",
   "execution_count": 6,
   "outputs": [],
   "source": [
    "local_latent_df.to_csv(f'{base_dir}/local_latent.csv', index=False)"
   ],
   "metadata": {
    "collapsed": false,
    "pycharm": {
     "name": "#%%\n"
    }
   }
  },
  {
   "cell_type": "code",
   "execution_count": 8,
   "outputs": [
    {
     "name": "stdout",
     "output_type": "stream",
     "text": [
      "\n",
      "APPROACH: GlobalLatentMode\n",
      "EXPLAINER: GradCAMPP\n",
      "CLUS TECH: AffinityPropagation\n",
      "DIM RED TECH: ['TSNE']\n",
      "DIM RED TECH PARAMS: [{'angle': 0.5, 'early_exaggeration': 12.0, 'init': 'warn', 'learning_rate': 'warn', 'method': 'barnes_hut', 'metric': 'euclidean', 'min_grad_norm': 1e-07, 'n_components': 2, 'n_iter': 1000, 'n_iter_without_progress': 300, 'n_jobs': None, 'perplexity': 5, 'random_state': None, 'square_distances': 'legacy', 'verbose': 0}]\n",
      "            \n",
      "1/5 -> 0.3815918564796448\n",
      "2/5 -> 0.3729611933231354\n",
      "3/5 -> 0.354221910238266\n",
      "4/5 -> 0.3706367313861847\n",
      "5/5 -> 0.40380123257637024\n",
      "\n",
      "APPROACH: GlobalLatentMode\n",
      "EXPLAINER: SmoothGrad\n",
      "CLUS TECH: AffinityPropagation\n",
      "DIM RED TECH: ['TSNE']\n",
      "DIM RED TECH PARAMS: [{'angle': 0.5, 'early_exaggeration': 12.0, 'init': 'warn', 'learning_rate': 'warn', 'method': 'barnes_hut', 'metric': 'euclidean', 'min_grad_norm': 1e-07, 'n_components': 2, 'n_iter': 1000, 'n_iter_without_progress': 300, 'n_jobs': None, 'perplexity': 5, 'random_state': None, 'square_distances': 'legacy', 'verbose': 0}]\n",
      "            \n",
      "1/5 -> NO CLUSTERS\n",
      "2/5 -> 0.40182310342788696\n",
      "3/5 -> 0.38755542039871216\n",
      "4/5 -> 0.3910678029060364\n",
      "5/5 -> 0.3807084858417511\n",
      "\n",
      "APPROACH: GlobalLatentMode\n",
      "EXPLAINER: IntegratedGradients\n",
      "CLUS TECH: AffinityPropagation\n",
      "DIM RED TECH: ['TSNE']\n",
      "DIM RED TECH PARAMS: [{'angle': 0.5, 'early_exaggeration': 12.0, 'init': 'warn', 'learning_rate': 'warn', 'method': 'barnes_hut', 'metric': 'euclidean', 'min_grad_norm': 1e-07, 'n_components': 2, 'n_iter': 1000, 'n_iter_without_progress': 300, 'n_jobs': None, 'perplexity': 5, 'random_state': None, 'square_distances': 'legacy', 'verbose': 0}]\n",
      "            \n",
      "1/5 -> 0.43639612197875977\n",
      "2/5 -> 0.42161718010902405\n",
      "3/5 -> NO CLUSTERS\n",
      "4/5 -> 0.43005508184432983\n",
      "5/5 -> 0.421945720911026\n",
      "\n",
      "APPROACH: GlobalLatentMode\n",
      "EXPLAINER: Rise\n",
      "CLUS TECH: AffinityPropagation\n",
      "DIM RED TECH: ['TSNE']\n",
      "DIM RED TECH PARAMS: [{'angle': 0.5, 'early_exaggeration': 12.0, 'init': 'warn', 'learning_rate': 'warn', 'method': 'barnes_hut', 'metric': 'euclidean', 'min_grad_norm': 1e-07, 'n_components': 2, 'n_iter': 1000, 'n_iter_without_progress': 300, 'n_jobs': None, 'perplexity': 5, 'random_state': None, 'square_distances': 'legacy', 'verbose': 0}]\n",
      "            \n",
      "1/5 -> NO CLUSTERS\n",
      "2/5 -> NO CLUSTERS\n",
      "3/5 -> NO CLUSTERS\n",
      "4/5 -> NO CLUSTERS\n",
      "5/5 -> NO CLUSTERS\n",
      "\n",
      "APPROACH: GlobalLatentMode\n",
      "EXPLAINER: KernelShap\n",
      "CLUS TECH: AffinityPropagation\n",
      "DIM RED TECH: ['TSNE']\n",
      "DIM RED TECH PARAMS: [{'angle': 0.5, 'early_exaggeration': 12.0, 'init': 'warn', 'learning_rate': 'warn', 'method': 'barnes_hut', 'metric': 'euclidean', 'min_grad_norm': 1e-07, 'n_components': 2, 'n_iter': 1000, 'n_iter_without_progress': 300, 'n_jobs': None, 'perplexity': 5, 'random_state': None, 'square_distances': 'legacy', 'verbose': 0}]\n",
      "            \n",
      "1/5 -> NO CLUSTERS\n",
      "2/5 -> NO CLUSTERS\n",
      "3/5 -> NO CLUSTERS\n",
      "4/5 -> NO CLUSTERS\n",
      "5/5 -> NO CLUSTERS\n",
      "\n",
      "APPROACH: GlobalLatentMode\n",
      "EXPLAINER: Lime\n",
      "CLUS TECH: AffinityPropagation\n",
      "DIM RED TECH: ['TSNE']\n",
      "DIM RED TECH PARAMS: [{'angle': 0.5, 'early_exaggeration': 12.0, 'init': 'warn', 'learning_rate': 'warn', 'method': 'barnes_hut', 'metric': 'euclidean', 'min_grad_norm': 1e-07, 'n_components': 2, 'n_iter': 1000, 'n_iter_without_progress': 300, 'n_jobs': None, 'perplexity': 5, 'random_state': None, 'square_distances': 'legacy', 'verbose': 0}]\n",
      "            \n",
      "1/5 -> NO CLUSTERS\n",
      "2/5 -> NO CLUSTERS\n",
      "3/5 -> NO CLUSTERS\n",
      "4/5 -> NO CLUSTERS\n",
      "5/5 -> NO CLUSTERS\n"
     ]
    }
   ],
   "source": [
    "from workflow.ClusteringMode import GlobalLatentMode\n",
    "\n",
    "approaches = [\n",
    "    GlobalLatentMode(\n",
    "        mask=mask_label,\n",
    "        explainer=explainer,\n",
    "        dim_red_techs=[TSNE(perplexity=5)],\n",
    "        clus_tech=AffinityPropagation()\n",
    "    )\n",
    "    for explainer in explainers\n",
    "]\n",
    "\n",
    "global_latent_df = find_optimal_clusters(\n",
    "    approaches=approaches,\n",
    "    data=test_data,\n",
    "    predictions=predictions_cat,\n",
    "    iterations=5,\n",
    "    verbose=True\n",
    ")\n",
    "\n",
    "beep()"
   ],
   "metadata": {
    "collapsed": false,
    "pycharm": {
     "name": "#%%\n"
    }
   }
  },
  {
   "cell_type": "code",
   "execution_count": 20,
   "outputs": [
    {
     "data": {
      "text/plain": "<Figure size 2304x648 with 1 Axes>",
      "image/png": "[encoded data removed]"
     },
     "metadata": {
      "needs_background": "light"
     },
     "output_type": "display_data"
    }
   ],
   "source": [
    "from utils.general import save_figure\n",
    "import seaborn as sns\n",
    "\n",
    "overall_df = pd.concat([local_latent_df, global_latent_df])\n",
    "overall_df['OVERALL_TIME'] = overall_df['TIME_CONTRIBUTIONS'] + overall_df['TIME_CLUSTERING']\n",
    "overall_df = overall_df[~overall_df['EXPLAINER'].isin(['Rise', 'KernelShap', 'Lime'])]\n",
    "\n",
    "avg_time =overall_df.groupby(['EXPLAINER', 'CLUSTERING_MODE'])['OVERALL_TIME'].mean().reset_index(drop=False)\n",
    "\n",
    "fig, ax = plt.subplots(1, 1, figsize=(16*2, 9))\n",
    "# sns.boxplot(x='EXPLAINER', y='SILHOUETTE', hue='CLUSTERING_MODE', data=overall_df, ax=ax[0], showfliers=False).set_title('Quality scores by technique and clustering approach', size=20)\n",
    "sns.barplot(x='EXPLAINER', y='OVERALL_TIME', hue='CLUSTERING_MODE', data=overall_df, ax=ax).set_title('Overall time by technique and clustering approach', size=20)\n",
    "fig.show()\n",
    "sns.despine()\n",
    "\n",
    "save_figure(fig, '../out/insights/local_latent_scores_by_technique', dpi=300)"
   ],
   "metadata": {
    "collapsed": false,
    "pycharm": {
     "name": "#%%\n"
    }
   }
  },
  {
   "cell_type": "code",
   "execution_count": 9,
   "outputs": [
    {
     "data": {
      "text/plain": "{'MODEL': 'MNIST',\n 'EXPLAINER': 'Rise',\n 'CLUSTERING_TECHNIQUE': 'AffinityPropagation',\n 'DIMENSIONALITY_REDUCTION_TECHNIQUE': 'TSNE',\n 'DISTANCE_METRIC': nan,\n 'CLUSTERING_MODE': 'LocalLatentMode',\n 'CLUSTERS': '0,1,1,0,2,3,0,3,2,2',\n 'SILHOUETTE': 0.984,\n 'TIME_CONTRIBUTIONS': 4.66701,\n 'TIME_CLUSTERING': 0.15898,\n 'TIMESTAMP': '2022-03-29 00:18:28.958831'}"
     },
     "execution_count": 9,
     "metadata": {},
     "output_type": "execute_result"
    }
   ],
   "source": [
    "best_row = df.sort_values(by=['SILHOUETTE'], ascending=False).iloc[0]\n",
    "best_row.to_dict()"
   ],
   "metadata": {
    "collapsed": false,
    "pycharm": {
     "name": "#%%\n"
    }
   }
  },
  {
   "cell_type": "code",
   "execution_count": null,
   "outputs": [],
   "source": [],
   "metadata": {
    "collapsed": false,
    "pycharm": {
     "name": "#%%\n"
    }
   }
  }
 ],
 "metadata": {
  "kernelspec": {
   "display_name": "Python 3",
   "language": "python",
   "name": "python3"
  },
  "language_info": {
   "codemirror_mode": {
    "name": "ipython",
    "version": 2
   },
   "file_extension": ".py",
   "mimetype": "text/x-python",
   "name": "python",
   "nbconvert_exporter": "python",
   "pygments_lexer": "ipython2",
   "version": "2.7.6"
  }
 },
 "nbformat": 4,
 "nbformat_minor": 0
}