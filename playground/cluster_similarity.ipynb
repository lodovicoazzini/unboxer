{
 "cells": [
  {
   "cell_type": "code",
   "execution_count": 1,
   "outputs": [],
   "source": [
    "%reload_ext autoreload\n",
    "%autoreload 2\n",
    "%matplotlib inline"
   ],
   "metadata": {
    "collapsed": false,
    "pycharm": {
     "name": "#%%\n"
    }
   }
  },
  {
   "cell_type": "code",
   "execution_count": 13,
   "metadata": {
    "collapsed": true
   },
   "outputs": [
    {
     "name": "stdout",
     "output_type": "stream",
     "text": [
      "intra-pairs_old(lhs) -> <0, 1> <2, 4> <3, 4> <2, 3> <6, 7>\n",
      "intra-pairs_old(lhs) -> <0, 1> <2, 4> <3, 4> <5, 7> <2, 3> <6, 7> <5, 6>\n",
      "intra-pairs similarity(lhs, rhs) = 0.8333333333333334\n"
     ]
    }
   ],
   "source": [
    "from utils.cluster.similarity_metrics import intra_pairs, intra_pairs_similarity\n",
    "\n",
    "lhs = [0, 0, 1, 1, 1, 2, 3, 3]\n",
    "rhs = [0, 0, 1, 1, 1, 2, 2, 2]\n",
    "\n",
    "print(f'intra-pairs_old(lhs) -> {\" \".join([f\"<{l}, {r}>\" for l, r in intra_pairs(lhs)])}')\n",
    "print(f'intra-pairs_old(lhs) -> {\" \".join([f\"<{l}, {r}>\" for l, r in intra_pairs(rhs)])}')\n",
    "print(f'intra-pairs similarity(lhs, rhs) = {intra_pairs_similarity(lhs, rhs)}')"
   ]
  },
  {
   "cell_type": "code",
   "execution_count": null,
   "outputs": [],
   "source": [],
   "metadata": {
    "collapsed": false,
    "pycharm": {
     "name": "#%%\n"
    }
   }
  }
 ],
 "metadata": {
  "kernelspec": {
   "display_name": "Python 3",
   "language": "python",
   "name": "python3"
  },
  "language_info": {
   "codemirror_mode": {
    "name": "ipython",
    "version": 2
   },
   "file_extension": ".py",
   "mimetype": "text/x-python",
   "name": "python",
   "nbconvert_exporter": "python",
   "pygments_lexer": "ipython2",
   "version": "2.7.6"
  }
 },
 "nbformat": 4,
 "nbformat_minor": 0
}