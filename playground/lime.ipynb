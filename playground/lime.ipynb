{
 "cells": [
  {
   "cell_type": "code",
   "execution_count": 156,
   "outputs": [
    {
     "name": "stdout",
     "output_type": "stream",
     "text": [
      "Train samples:  60000\n",
      "Test samples:  10000\n"
     ]
    }
   ],
   "source": [
    "from tensorflow.keras import datasets\n",
    "\n",
    "# Load the train and test data for the MNIST dataset\n",
    "(train_data, train_labels), (test_data, test_labels) = datasets.mnist.load_data()\n",
    "\n",
    "# Normalize the value between [0, 1]\n",
    "train_data, test_data = train_data/255.0, test_data/255.0\n",
    "\n",
    "print('Train samples: ', len (train_data))\n",
    "print('Test samples: ', len (test_data))"
   ],
   "metadata": {
    "collapsed": false,
    "pycharm": {
     "name": "#%%\n"
    }
   }
  },
  {
   "cell_type": "code",
   "execution_count": 173,
   "outputs": [
    {
     "name": "stdout",
     "output_type": "stream",
     "text": [
      "Original shape:  (60000, 28, 28)\n",
      "Transformed shape:  (60000, 28, 28, 3)\n"
     ]
    }
   ],
   "source": [
    "import numpy as np\n",
    "print('Original shape: ', train_data.shape)\n",
    "print('Transformed shape: ', np.array(list(map(gray2rgb, train_data))).shape)"
   ],
   "metadata": {
    "collapsed": false,
    "pycharm": {
     "name": "#%%\n"
    }
   }
  },
  {
   "cell_type": "code",
   "execution_count": 177,
   "outputs": [],
   "source": [
    "import numpy as np\n",
    "from skimage.color import gray2rgb\n",
    "\n",
    "# Turn the images into rgb, expected from LIME\n",
    "train_data_rgb = np.array(list(map(gray2rgb, train_data))).astype(np.uint8)\n",
    "test_data_rgb = np.array(list(map(gray2rgb, test_data))).astype(np.uint8)"
   ],
   "metadata": {
    "collapsed": false,
    "pycharm": {
     "name": "#%%\n"
    }
   }
  },
  {
   "cell_type": "code",
   "execution_count": 178,
   "outputs": [
    {
     "data": {
      "text/plain": "Text(0.5, 1.0, 'Digit: 5')"
     },
     "execution_count": 178,
     "metadata": {},
     "output_type": "execute_result"
    },
    {
     "data": {
      "text/plain": "<Figure size 432x288 with 1 Axes>",
      "image/png": "[encoded data removed]"
     },
     "metadata": {},
     "output_type": "display_data"
    }
   ],
   "source": [
    "import matplotlib.pyplot as plt\n",
    "import seaborn_image as isns\n",
    "\n",
    "# Plot an example image and its label\n",
    "isns.imshow(train_data[0], despine=True, cbar=False, cmap='gray')\\\n",
    "    .set_title('Digit: {}'.format(train_labels[0]))"
   ],
   "metadata": {
    "collapsed": false,
    "pycharm": {
     "name": "#%%\n"
    }
   }
  },
  {
   "cell_type": "code",
   "execution_count": 179,
   "outputs": [
    {
     "data": {
      "text/plain": "Pipeline(steps=[('grayscale',\n                 FunctionTransformer(func=<function <lambda> at 0x1add529e0>)),\n                ('flatten',\n                 FunctionTransformer(func=<function <lambda> at 0x1adcff880>)),\n                ('RF', RandomForestClassifier())])"
     },
     "execution_count": 179,
     "metadata": {},
     "output_type": "execute_result"
    }
   ],
   "source": [
    "from sklearn.pipeline import Pipeline\n",
    "from sklearn.preprocessing import FunctionTransformer\n",
    "from skimage.color import rgb2gray\n",
    "from sklearn.ensemble import RandomForestClassifier\n",
    "\n",
    "# Create and fit the pipeline for the random forest classifier\n",
    "classifier_pipeline = Pipeline([\n",
    "    ('grayscale', FunctionTransformer(lambda imgs: [rgb2gray(img) for img in imgs])),\n",
    "    ('flatten', FunctionTransformer(lambda imgs: [img.flatten() for img in imgs])),\n",
    "    ('RF', RandomForestClassifier())\n",
    "])\n",
    "\n",
    "classifier_pipeline.fit(train_data_rgb, train_labels)"
   ],
   "metadata": {
    "collapsed": false,
    "pycharm": {
     "name": "#%%\n"
    }
   }
  },
  {
   "cell_type": "code",
   "execution_count": 180,
   "outputs": [
    {
     "data": {
      "text/plain": "Text(0.5, 1.0, 'Predicted: 0\\nReal: 0')"
     },
     "execution_count": 180,
     "metadata": {},
     "output_type": "execute_result"
    },
    {
     "data": {
      "text/plain": "<Figure size 432x288 with 1 Axes>",
      "image/png": "[encoded data removed]"
     },
     "metadata": {},
     "output_type": "display_data"
    }
   ],
   "source": [
    "img_num = 3\n",
    "\n",
    "# Use the pipeline to predict the label for an image\n",
    "predictions = classifier_pipeline.predict(test_data_rgb[img_num:img_num+1])\n",
    "\n",
    "isns.imshow(test_data[img_num], despine=True, cbar=False, cmap='gray')\\\n",
    "    .set_title('Predicted: {}\\nReal: {}'.format(predictions[0], test_labels[img_num]))"
   ],
   "metadata": {
    "collapsed": false,
    "pycharm": {
     "name": "#%%\n"
    }
   }
  },
  {
   "cell_type": "code",
   "execution_count": 162,
   "outputs": [],
   "source": [
    "from lime import lime_image\n",
    "from lime.wrappers.scikit_image import SegmentationAlgorithm\n",
    "\n",
    "# Setup the LIME explainer\n",
    "explainer = lime_image.LimeImageExplainer(verbose = False)\n",
    "segmenter = SegmentationAlgorithm('quickshift', kernel_size=1, max_dist=200, ratio=0.2)"
   ],
   "metadata": {
    "collapsed": false,
    "pycharm": {
     "name": "#%%\n"
    }
   }
  },
  {
   "cell_type": "code",
   "execution_count": 163,
   "outputs": [
    {
     "data": {
      "text/plain": "  0%|          | 0/10000 [00:00<?, ?it/s]",
      "application/vnd.jupyter.widget-view+json": {
       "version_major": 2,
       "version_minor": 0,
       "model_id": "feffb38878654f52b90669e557d9e15d"
      }
     },
     "metadata": {},
     "output_type": "display_data"
    }
   ],
   "source": [
    "# Generate the explanation for an image\n",
    "explanation = explainer.explain_instance(\n",
    "    test_data_rgb[img_num],\n",
    "    classifier_fn = classifier_pipeline.predict_proba,\n",
    "    top_labels=10, hide_color=0, num_samples=10000, segmentation_fn=segmenter\n",
    ")"
   ],
   "metadata": {
    "collapsed": false,
    "pycharm": {
     "name": "#%%\n"
    }
   }
  },
  {
   "cell_type": "code",
   "execution_count": 164,
   "outputs": [
    {
     "data": {
      "text/plain": "Text(0.5, 1.0, 'Positive/Negative Regions for 0')"
     },
     "execution_count": 164,
     "metadata": {},
     "output_type": "execute_result"
    },
    {
     "data": {
      "text/plain": "<Figure size 576x288 with 2 Axes>",
      "image/png": "[encoded data removed]"
     },
     "metadata": {},
     "output_type": "display_data"
    }
   ],
   "source": [
    "from skimage.color import label2rgb\n",
    "\n",
    "# Plot the explanations for the prediction\n",
    "img, mask = explanation.get_image_and_mask(\n",
    "    test_labels[img_num],\n",
    "    positive_only=True,\n",
    "    num_features=10,\n",
    "    hide_rest=False,\n",
    "    min_weight=0.01)\n",
    "fig, (ax1, ax2) = plt.subplots(1,2, figsize = (8, 4))\n",
    "isns.imshow(label2rgb(mask, test_data[img_num], bg_label = 0), interpolation = 'nearest', ax=ax1)\n",
    "ax1.set_title('Positive Regions for {}'.format(test_labels[img_num]))\n",
    "\n",
    "temp, mask = explanation.get_image_and_mask(\n",
    "    test_labels[img_num],\n",
    "    positive_only=False,\n",
    "    num_features=10,\n",
    "    hide_rest=False,\n",
    "    min_weight = 0.01\n",
    ")\n",
    "isns.imshow(label2rgb(3-mask, test_data[img_num], bg_label = 0), interpolation = 'nearest', ax=ax2)\n",
    "ax2.set_title('Positive/Negative Regions for {}'.format(test_labels[img_num]))"
   ],
   "metadata": {
    "collapsed": false,
    "pycharm": {
     "name": "#%%\n"
    }
   }
  },
  {
   "cell_type": "code",
   "execution_count": 164,
   "outputs": [],
   "source": [],
   "metadata": {
    "collapsed": false,
    "pycharm": {
     "name": "#%%\n"
    }
   }
  }
 ],
 "metadata": {
  "kernelspec": {
   "name": "pycharm-23f9a5d9",
   "language": "python",
   "display_name": "PyCharm (opening-the-black-box_no_sync)"
  },
  "language_info": {
   "codemirror_mode": {
    "name": "ipython",
    "version": 2
   },
   "file_extension": ".py",
   "mimetype": "text/x-python",
   "name": "python",
   "nbconvert_exporter": "python",
   "pygments_lexer": "ipython2",
   "version": "2.7.6"
  }
 },
 "nbformat": 4,
 "nbformat_minor": 0
}