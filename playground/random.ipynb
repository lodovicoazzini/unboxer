{
 "cells": [
  {
   "cell_type": "markdown",
   "source": [],
   "metadata": {
    "collapsed": false
   },
   "outputs": []
  },
  {
   "cell_type": "code",
   "execution_count": 1,
   "outputs": [],
   "source": [
    "\n",
    "%reload_ext autoreload\n",
    "%autoreload 2\n",
    "%matplotlib inline"
   ],
   "metadata": {
    "collapsed": false,
    "pycharm": {
     "name": "#%%\n"
    }
   }
  },
  {
   "cell_type": "code",
   "execution_count": 3,
   "outputs": [
    {
     "data": {
      "text/plain": "               approach map_size  map_time  features_extraction      mode  \\\n0         moves+bitmaps    10x10  0.136033            33.380366  original   \n1         moves+bitmaps    10x10  0.136033            33.380366   reduced   \n2     moves+orientation    10x10  0.168546            33.380366  original   \n3     moves+orientation    10x10  0.168546            33.380366   reduced   \n4   orientation+bitmaps    10x10  0.133649            33.380366  original   \n5   orientation+bitmaps    10x10  0.133649            33.380366   reduced   \n6         moves+bitmaps    25x25  0.214196            35.245366  original   \n7         moves+bitmaps    25x25  0.214196            35.245366   reduced   \n8     moves+orientation    25x25  0.254710            35.245366  original   \n9     moves+orientation    25x25  0.254710            35.245366   reduced   \n10  orientation+bitmaps    25x25  0.416582            35.245366  original   \n11  orientation+bitmaps    25x25  0.416582            35.245366   reduced   \n\n                                             clusters  \n0   [[670], [48, 163, 252, 254, 274, 279, 401, 426...  \n1   [[670, 48, 163, 252, 254, 274, 279, 401, 426, ...  \n2   [[28, 119, 263, 277, 339, 453], [20, 38, 72, 8...  \n3   [[28, 119, 263, 277, 339, 453, 20, 38, 72, 83,...  \n4   [[28, 339, 453], [119, 263, 277], [248], [252,...  \n5   [[28, 339, 453, 119, 263, 277, 248, 252, 520, ...  \n6   [[670], [48, 274, 279, 520], [252, 254, 426, 5...  \n7   [[670], [48, 274, 279, 520, 252, 254, 426, 507...  \n8   [[339], [28, 277, 453], [119, 125, 210, 263, 3...  \n9   [[339, 28, 277, 453, 119, 125, 210, 263, 370, ...  \n10  [[339], [453], [28], [277], [125], [263], [119...  \n11  [[339, 453, 28, 125, 263], [277, 119, 370, 210...  ",
      "text/html": "<div>\n<style scoped>\n    .dataframe tbody tr th:only-of-type {\n        vertical-align: middle;\n    }\n\n    .dataframe tbody tr th {\n        vertical-align: top;\n    }\n\n    .dataframe thead th {\n        text-align: right;\n    }\n</style>\n<table border=\"1\" class=\"dataframe\">\n  <thead>\n    <tr style=\"text-align: right;\">\n      <th></th>\n      <th>approach</th>\n      <th>map_size</th>\n      <th>map_time</th>\n      <th>features_extraction</th>\n      <th>mode</th>\n      <th>clusters</th>\n    </tr>\n  </thead>\n  <tbody>\n    <tr>\n      <th>0</th>\n      <td>moves+bitmaps</td>\n      <td>10x10</td>\n      <td>0.136033</td>\n      <td>33.380366</td>\n      <td>original</td>\n      <td>[[670], [48, 163, 252, 254, 274, 279, 401, 426...</td>\n    </tr>\n    <tr>\n      <th>1</th>\n      <td>moves+bitmaps</td>\n      <td>10x10</td>\n      <td>0.136033</td>\n      <td>33.380366</td>\n      <td>reduced</td>\n      <td>[[670, 48, 163, 252, 254, 274, 279, 401, 426, ...</td>\n    </tr>\n    <tr>\n      <th>2</th>\n      <td>moves+orientation</td>\n      <td>10x10</td>\n      <td>0.168546</td>\n      <td>33.380366</td>\n      <td>original</td>\n      <td>[[28, 119, 263, 277, 339, 453], [20, 38, 72, 8...</td>\n    </tr>\n    <tr>\n      <th>3</th>\n      <td>moves+orientation</td>\n      <td>10x10</td>\n      <td>0.168546</td>\n      <td>33.380366</td>\n      <td>reduced</td>\n      <td>[[28, 119, 263, 277, 339, 453, 20, 38, 72, 83,...</td>\n    </tr>\n    <tr>\n      <th>4</th>\n      <td>orientation+bitmaps</td>\n      <td>10x10</td>\n      <td>0.133649</td>\n      <td>33.380366</td>\n      <td>original</td>\n      <td>[[28, 339, 453], [119, 263, 277], [248], [252,...</td>\n    </tr>\n    <tr>\n      <th>5</th>\n      <td>orientation+bitmaps</td>\n      <td>10x10</td>\n      <td>0.133649</td>\n      <td>33.380366</td>\n      <td>reduced</td>\n      <td>[[28, 339, 453, 119, 263, 277, 248, 252, 520, ...</td>\n    </tr>\n    <tr>\n      <th>6</th>\n      <td>moves+bitmaps</td>\n      <td>25x25</td>\n      <td>0.214196</td>\n      <td>35.245366</td>\n      <td>original</td>\n      <td>[[670], [48, 274, 279, 520], [252, 254, 426, 5...</td>\n    </tr>\n    <tr>\n      <th>7</th>\n      <td>moves+bitmaps</td>\n      <td>25x25</td>\n      <td>0.214196</td>\n      <td>35.245366</td>\n      <td>reduced</td>\n      <td>[[670], [48, 274, 279, 520, 252, 254, 426, 507...</td>\n    </tr>\n    <tr>\n      <th>8</th>\n      <td>moves+orientation</td>\n      <td>25x25</td>\n      <td>0.254710</td>\n      <td>35.245366</td>\n      <td>original</td>\n      <td>[[339], [28, 277, 453], [119, 125, 210, 263, 3...</td>\n    </tr>\n    <tr>\n      <th>9</th>\n      <td>moves+orientation</td>\n      <td>25x25</td>\n      <td>0.254710</td>\n      <td>35.245366</td>\n      <td>reduced</td>\n      <td>[[339, 28, 277, 453, 119, 125, 210, 263, 370, ...</td>\n    </tr>\n    <tr>\n      <th>10</th>\n      <td>orientation+bitmaps</td>\n      <td>25x25</td>\n      <td>0.416582</td>\n      <td>35.245366</td>\n      <td>original</td>\n      <td>[[339], [453], [28], [277], [125], [263], [119...</td>\n    </tr>\n    <tr>\n      <th>11</th>\n      <td>orientation+bitmaps</td>\n      <td>25x25</td>\n      <td>0.416582</td>\n      <td>35.245366</td>\n      <td>reduced</td>\n      <td>[[339, 453, 28, 125, 263], [277, 119, 370, 210...</td>\n    </tr>\n  </tbody>\n</table>\n</div>"
     },
     "execution_count": 3,
     "metadata": {},
     "output_type": "execute_result"
    }
   ],
   "source": [
    "import pandas  as pd\n",
    "\n",
    "pd.read_pickle('../logs/feature_combinations_clusters')"
   ],
   "metadata": {
    "collapsed": false,
    "pycharm": {
     "name": "#%%\n"
    }
   }
  },
  {
   "cell_type": "code",
   "execution_count": 6,
   "outputs": [
    {
     "data": {
      "text/plain": "              approach map_size  map_time  features_extraction      mode  \\\n0        moves+bitmaps    25x25  0.200193            38.454116  original   \n1        moves+bitmaps    25x25  0.200193            38.454116   reduced   \n2    moves+orientation    25x25  0.307045            38.454116  original   \n3    moves+orientation    25x25  0.307045            38.454116   reduced   \n4  orientation+bitmaps    25x25  0.312991            38.454116  original   \n5  orientation+bitmaps    25x25  0.312991            38.454116   reduced   \n\n                                            clusters  \n0  [[670], [48, 274, 279, 520], [252, 254, 426, 5...  \n1  [[670], [48, 274, 279, 520, 252, 254, 426, 507...  \n2  [[339], [28, 277, 453], [119, 125, 210, 263, 3...  \n3  [[339, 28, 277, 453, 119, 125, 210, 263, 370, ...  \n4  [[339], [453], [28], [277], [125], [263], [119...  \n5  [[339, 453, 28, 125, 263], [277, 119, 370, 210...  ",
      "text/html": "<div>\n<style scoped>\n    .dataframe tbody tr th:only-of-type {\n        vertical-align: middle;\n    }\n\n    .dataframe tbody tr th {\n        vertical-align: top;\n    }\n\n    .dataframe thead th {\n        text-align: right;\n    }\n</style>\n<table border=\"1\" class=\"dataframe\">\n  <thead>\n    <tr style=\"text-align: right;\">\n      <th></th>\n      <th>approach</th>\n      <th>map_size</th>\n      <th>map_time</th>\n      <th>features_extraction</th>\n      <th>mode</th>\n      <th>clusters</th>\n    </tr>\n  </thead>\n  <tbody>\n    <tr>\n      <th>0</th>\n      <td>moves+bitmaps</td>\n      <td>25x25</td>\n      <td>0.200193</td>\n      <td>38.454116</td>\n      <td>original</td>\n      <td>[[670], [48, 274, 279, 520], [252, 254, 426, 5...</td>\n    </tr>\n    <tr>\n      <th>1</th>\n      <td>moves+bitmaps</td>\n      <td>25x25</td>\n      <td>0.200193</td>\n      <td>38.454116</td>\n      <td>reduced</td>\n      <td>[[670], [48, 274, 279, 520, 252, 254, 426, 507...</td>\n    </tr>\n    <tr>\n      <th>2</th>\n      <td>moves+orientation</td>\n      <td>25x25</td>\n      <td>0.307045</td>\n      <td>38.454116</td>\n      <td>original</td>\n      <td>[[339], [28, 277, 453], [119, 125, 210, 263, 3...</td>\n    </tr>\n    <tr>\n      <th>3</th>\n      <td>moves+orientation</td>\n      <td>25x25</td>\n      <td>0.307045</td>\n      <td>38.454116</td>\n      <td>reduced</td>\n      <td>[[339, 28, 277, 453, 119, 125, 210, 263, 370, ...</td>\n    </tr>\n    <tr>\n      <th>4</th>\n      <td>orientation+bitmaps</td>\n      <td>25x25</td>\n      <td>0.312991</td>\n      <td>38.454116</td>\n      <td>original</td>\n      <td>[[339], [453], [28], [277], [125], [263], [119...</td>\n    </tr>\n    <tr>\n      <th>5</th>\n      <td>orientation+bitmaps</td>\n      <td>25x25</td>\n      <td>0.312991</td>\n      <td>38.454116</td>\n      <td>reduced</td>\n      <td>[[339, 453, 28, 125, 263], [277, 119, 370, 210...</td>\n    </tr>\n  </tbody>\n</table>\n</div>"
     },
     "execution_count": 6,
     "metadata": {},
     "output_type": "execute_result"
    }
   ],
   "source": [
    "pd.read_pickle('../logs/featuremaps_data')"
   ],
   "metadata": {
    "collapsed": false,
    "pycharm": {
     "name": "#%%\n"
    }
   }
  },
  {
   "cell_type": "code",
   "execution_count": null,
   "outputs": [],
   "source": [],
   "metadata": {
    "collapsed": false,
    "pycharm": {
     "name": "#%%\n"
    }
   }
  }
 ],
 "metadata": {
  "kernelspec": {
   "display_name": "Python 3",
   "language": "python",
   "name": "python3"
  },
  "language_info": {
   "codemirror_mode": {
    "name": "ipython",
    "version": 2
   },
   "file_extension": ".py",
   "mimetype": "text/x-python",
   "name": "python",
   "nbconvert_exporter": "python",
   "pygments_lexer": "ipython2",
   "version": "2.7.6"
  }
 },
 "nbformat": 4,
 "nbformat_minor": 0
}