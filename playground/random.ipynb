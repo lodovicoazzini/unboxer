{
 "cells": [
  {
   "cell_type": "markdown",
   "source": [],
   "metadata": {
    "collapsed": false
   },
   "outputs": []
  },
  {
   "cell_type": "code",
   "execution_count": 12,
   "outputs": [],
   "source": [
    "\n",
    "%reload_ext autoreload\n",
    "%autoreload 2\n",
    "%matplotlib inline"
   ],
   "metadata": {
    "collapsed": false,
    "pycharm": {
     "name": "#%%\n"
    }
   }
  },
  {
   "cell_type": "code",
   "execution_count": 10,
   "outputs": [],
   "source": [
    "import numpy as np\n",
    "import pandas as pd\n",
    "\n",
    "from utils.dataset import get_train_test_data, get_data_masks\n",
    "\n",
    "df = pd.read_pickle('../logs/heatmaps_data')\n",
    "predictions = np.loadtxt('../in/predictions')\n",
    "_, (test_data, test_labels) = get_train_test_data(rgb=True, verbose=False)\n",
    "mask_miss, mask_label = get_data_masks(real=test_labels, predictions=predictions, label=5, verbose=False)"
   ],
   "metadata": {
    "collapsed": false,
    "pycharm": {
     "name": "#%%\n"
    }
   }
  },
  {
   "cell_type": "code",
   "execution_count": 3,
   "outputs": [
    {
     "data": {
      "text/plain": "    clustering_mode  explainer  \\\n20  LocalLatentMode  DeconvNet   \n21  LocalLatentMode  DeconvNet   \n22  LocalLatentMode  DeconvNet   \n23  LocalLatentMode  DeconvNet   \n24  LocalLatentMode  DeconvNet   \n\n                                        contributions clustering_technique  \\\n20  [[[8.2978644e-05, 0.0008877205, 0.0007726211, ...  AffinityPropagation   \n21  [[[8.2978644e-05, 0.0008877205, 0.0007726211, ...  AffinityPropagation   \n22  [[[8.2978644e-05, 0.0008877205, 0.0007726211, ...  AffinityPropagation   \n23  [[[8.2978644e-05, 0.0008877205, 0.0007726211, ...  AffinityPropagation   \n24  [[[8.2978644e-05, 0.0008877205, 0.0007726211, ...  AffinityPropagation   \n\n   dim_red_techs                               dim_red_techs_params  \\\n20        [TSNE]  [{'angle': 0.5, 'early_exaggeration': 12.0, 'i...   \n21        [TSNE]  [{'angle': 0.5, 'early_exaggeration': 12.0, 'i...   \n22        [TSNE]  [{'angle': 0.5, 'early_exaggeration': 12.0, 'i...   \n23        [TSNE]  [{'angle': 0.5, 'early_exaggeration': 12.0, 'i...   \n24        [TSNE]  [{'angle': 0.5, 'early_exaggeration': 12.0, 'i...   \n\n    silhouette                                           clusters  \\\n20         NaN  [[0, 1, 2, 3, 4, 5, 6, 7, 8, 9, 10, 11, 12, 13...   \n21       0.454  [[0, 640, 6, 134, 18, 21, 408, 152, 26, 27, 42...   \n22       0.462  [[0, 263, 394, 523, 270, 145, 18, 281, 156, 16...   \n23       0.465  [[0, 129, 640, 519, 145, 18, 404, 408, 281, 28...   \n24       0.462  [[0, 513, 640, 3, 646, 392, 145, 18, 404, 661,...   \n\n                                          projections  num_clusters  \\\n20  [[1.521627, 29.782726], [-38.593636, 39.75014]...             1   \n21  [[37.663887, -23.403397], [56.95672, 12.710832...            27   \n22  [[45.62001, -42.740818], [18.164557, -69.24782...            26   \n23  [[-41.77574, 3.1988196], [-80.62642, 10.262888...            26   \n24  [[46.807995, -29.429857], [27.25715, -67.88173...            26   \n\n    time_contributions  time_clustering                  timestamp  perplexity  \n20             0.99226          4.17274 2022-05-04 18:44:54.871583         3.0  \n21             0.99226          2.51709 2022-05-04 18:44:57.391269         3.0  \n22             0.99226          2.32581 2022-05-04 18:44:59.718994         3.0  \n23             0.99226          3.11520 2022-05-04 18:45:02.836403         3.0  \n24             0.99226          2.76044 2022-05-04 18:45:05.598788         3.0  ",
      "text/html": "<div>\n<style scoped>\n    .dataframe tbody tr th:only-of-type {\n        vertical-align: middle;\n    }\n\n    .dataframe tbody tr th {\n        vertical-align: top;\n    }\n\n    .dataframe thead th {\n        text-align: right;\n    }\n</style>\n<table border=\"1\" class=\"dataframe\">\n  <thead>\n    <tr style=\"text-align: right;\">\n      <th></th>\n      <th>clustering_mode</th>\n      <th>explainer</th>\n      <th>contributions</th>\n      <th>clustering_technique</th>\n      <th>dim_red_techs</th>\n      <th>dim_red_techs_params</th>\n      <th>silhouette</th>\n      <th>clusters</th>\n      <th>projections</th>\n      <th>num_clusters</th>\n      <th>time_contributions</th>\n      <th>time_clustering</th>\n      <th>timestamp</th>\n      <th>perplexity</th>\n    </tr>\n  </thead>\n  <tbody>\n    <tr>\n      <th>20</th>\n      <td>LocalLatentMode</td>\n      <td>DeconvNet</td>\n      <td>[[[8.2978644e-05, 0.0008877205, 0.0007726211, ...</td>\n      <td>AffinityPropagation</td>\n      <td>[TSNE]</td>\n      <td>[{'angle': 0.5, 'early_exaggeration': 12.0, 'i...</td>\n      <td>NaN</td>\n      <td>[[0, 1, 2, 3, 4, 5, 6, 7, 8, 9, 10, 11, 12, 13...</td>\n      <td>[[1.521627, 29.782726], [-38.593636, 39.75014]...</td>\n      <td>1</td>\n      <td>0.99226</td>\n      <td>4.17274</td>\n      <td>2022-05-04 18:44:54.871583</td>\n      <td>3.0</td>\n    </tr>\n    <tr>\n      <th>21</th>\n      <td>LocalLatentMode</td>\n      <td>DeconvNet</td>\n      <td>[[[8.2978644e-05, 0.0008877205, 0.0007726211, ...</td>\n      <td>AffinityPropagation</td>\n      <td>[TSNE]</td>\n      <td>[{'angle': 0.5, 'early_exaggeration': 12.0, 'i...</td>\n      <td>0.454</td>\n      <td>[[0, 640, 6, 134, 18, 21, 408, 152, 26, 27, 42...</td>\n      <td>[[37.663887, -23.403397], [56.95672, 12.710832...</td>\n      <td>27</td>\n      <td>0.99226</td>\n      <td>2.51709</td>\n      <td>2022-05-04 18:44:57.391269</td>\n      <td>3.0</td>\n    </tr>\n    <tr>\n      <th>22</th>\n      <td>LocalLatentMode</td>\n      <td>DeconvNet</td>\n      <td>[[[8.2978644e-05, 0.0008877205, 0.0007726211, ...</td>\n      <td>AffinityPropagation</td>\n      <td>[TSNE]</td>\n      <td>[{'angle': 0.5, 'early_exaggeration': 12.0, 'i...</td>\n      <td>0.462</td>\n      <td>[[0, 263, 394, 523, 270, 145, 18, 281, 156, 16...</td>\n      <td>[[45.62001, -42.740818], [18.164557, -69.24782...</td>\n      <td>26</td>\n      <td>0.99226</td>\n      <td>2.32581</td>\n      <td>2022-05-04 18:44:59.718994</td>\n      <td>3.0</td>\n    </tr>\n    <tr>\n      <th>23</th>\n      <td>LocalLatentMode</td>\n      <td>DeconvNet</td>\n      <td>[[[8.2978644e-05, 0.0008877205, 0.0007726211, ...</td>\n      <td>AffinityPropagation</td>\n      <td>[TSNE]</td>\n      <td>[{'angle': 0.5, 'early_exaggeration': 12.0, 'i...</td>\n      <td>0.465</td>\n      <td>[[0, 129, 640, 519, 145, 18, 404, 408, 281, 28...</td>\n      <td>[[-41.77574, 3.1988196], [-80.62642, 10.262888...</td>\n      <td>26</td>\n      <td>0.99226</td>\n      <td>3.11520</td>\n      <td>2022-05-04 18:45:02.836403</td>\n      <td>3.0</td>\n    </tr>\n    <tr>\n      <th>24</th>\n      <td>LocalLatentMode</td>\n      <td>DeconvNet</td>\n      <td>[[[8.2978644e-05, 0.0008877205, 0.0007726211, ...</td>\n      <td>AffinityPropagation</td>\n      <td>[TSNE]</td>\n      <td>[{'angle': 0.5, 'early_exaggeration': 12.0, 'i...</td>\n      <td>0.462</td>\n      <td>[[0, 513, 640, 3, 646, 392, 145, 18, 404, 661,...</td>\n      <td>[[46.807995, -29.429857], [27.25715, -67.88173...</td>\n      <td>26</td>\n      <td>0.99226</td>\n      <td>2.76044</td>\n      <td>2022-05-04 18:45:05.598788</td>\n      <td>3.0</td>\n    </tr>\n  </tbody>\n</table>\n</div>"
     },
     "execution_count": 3,
     "metadata": {},
     "output_type": "execute_result"
    }
   ],
   "source": [
    "df.head()"
   ],
   "metadata": {
    "collapsed": false,
    "pycharm": {
     "name": "#%%\n"
    }
   }
  },
  {
   "cell_type": "code",
   "execution_count": 13,
   "outputs": [
    {
     "data": {
      "text/plain": "      clustering_mode            explainer  \\\n34    LocalLatentMode            DeconvNet   \n245   LocalLatentMode            Occlusion   \n422   LocalLatentMode             Saliency   \n637   LocalLatentMode       GuidedBackprop   \n855   LocalLatentMode                 Lime   \n1026  LocalLatentMode              GradCAM   \n1249  LocalLatentMode  IntegratedGradients   \n1494  LocalLatentMode           KernelShap   \n1623  LocalLatentMode           SmoothGrad   \n1822  LocalLatentMode            GradCAMPP   \n2024  LocalLatentMode                 Rise   \n\n                                          contributions clustering_technique  \\\n34    [[[8.2978644e-05, 0.0008877205, 0.0007726211, ...  AffinityPropagation   \n245   [[[0.06040135, 0.06040135, 0.06040135, 0.06040...  AffinityPropagation   \n422   [[[2.7101485e-05, 0.0001807292, 0.00023244132,...  AffinityPropagation   \n637   [[[1.6267093e-05, 0.00016334264, 0.00020178633...  AffinityPropagation   \n855   [[[0.32830983, 0.32830983, 0.32830983, 0.32830...  AffinityPropagation   \n1026  [[[9.97461e-07, 9.97461e-07, 9.97461e-07, 9.97...  AffinityPropagation   \n1249  [[[0.0, 0.0, 0.0, 0.0, 0.0, 0.0, 0.0, 0.0, 0.0...  AffinityPropagation   \n1494  [[[0.34670442, 0.34670442, 0.34670442, 0.34670...  AffinityPropagation   \n1623  [[[1.9669034e-05, 0.00016607913, 8.633334e-05,...  AffinityPropagation   \n1822  [[[1.2826963e-05, 1.2826963e-05, 1.2826963e-05...  AffinityPropagation   \n2024  [[[0.2205074, 0.2205155, 0.22057432, 0.2201344...  AffinityPropagation   \n\n     dim_red_techs                               dim_red_techs_params  \\\n34          [TSNE]  [{'angle': 0.5, 'early_exaggeration': 12.0, 'i...   \n245         [TSNE]  [{'angle': 0.5, 'early_exaggeration': 12.0, 'i...   \n422         [TSNE]  [{'angle': 0.5, 'early_exaggeration': 12.0, 'i...   \n637         [TSNE]  [{'angle': 0.5, 'early_exaggeration': 12.0, 'i...   \n855         [TSNE]  [{'angle': 0.5, 'early_exaggeration': 12.0, 'i...   \n1026        [TSNE]  [{'angle': 0.5, 'early_exaggeration': 12.0, 'i...   \n1249        [TSNE]  [{'angle': 0.5, 'early_exaggeration': 12.0, 'i...   \n1494        [TSNE]  [{'angle': 0.5, 'early_exaggeration': 12.0, 'i...   \n1623        [TSNE]  [{'angle': 0.5, 'early_exaggeration': 12.0, 'i...   \n1822        [TSNE]  [{'angle': 0.5, 'early_exaggeration': 12.0, 'i...   \n2024        [TSNE]  [{'angle': 0.5, 'early_exaggeration': 12.0, 'i...   \n\n      silhouette                                           clusters  \\\n34         0.454  [[0, 513, 392, 145, 404, 661, 23, 281, 282, 66...   \n245        0.471  [[0, 131, 259, 260, 394, 403, 22, 154, 289, 67...   \n422        0.429  [[0, 129, 130, 258, 385, 133, 516, 263, 138, 3...   \n637        0.456  [[0, 385, 261, 135, 136, 393, 139, 273, 35, 67...   \n855        0.474  [[0, 768, 258, 770, 262, 657, 18, 658, 148, 21...   \n1026       0.415  [[0, 129, 258, 3, 385, 389, 144, 146, 25, 282,...   \n1249       0.405  [[0, 6, 134, 274, 788, 23, 152, 791, 27, 673, ...   \n1494       0.451  [[0, 262, 138, 529, 147, 148, 404, 790, 24, 66...   \n1623       0.481  [[0, 768, 5, 773, 775, 776, 777, 145, 147, 281...   \n1822       0.412  [[0, 385, 260, 523, 18, 148, 31, 420, 166, 298...   \n2024       0.476  [[0, 260, 6, 394, 145, 147, 21, 412, 157, 672,...   \n\n                                            projections  num_clusters  \\\n34    [[-39.440742, 9.458765], [-67.54129, -23.33808...            26   \n245   [[-15.441368, -40.958412], [-69.32139, -36.076...            24   \n422   [[2.3603945, -18.774992], [21.418165, 55.15328...            26   \n637   [[29.97812, 2.368575], [19.05706, -81.97709], ...            28   \n855   [[-70.39966, -12.346356], [-28.659304, 22.9139...            19   \n1026  [[-25.412523, 78.634674], [-43.49696, -1.03694...            25   \n1249  [[-32.93228, 47.869568], [74.20604, -4.545194]...            24   \n1494  [[-42.15512, -39.966053], [-52.079082, -19.219...            20   \n1623  [[1.8713665, -47.680733], [-56.605103, -36.576...            28   \n1822  [[-3.6947782, 12.586874], [-59.63552, 25.05140...            25   \n2024  [[-90.3332, 6.624815], [-13.72313, 12.919796],...            28   \n\n      time_contributions  time_clustering                  timestamp  \\\n34               0.99226          3.04880 2022-05-04 18:45:37.921028   \n245              6.77277          2.58879 2022-05-04 18:58:45.961888   \n422              0.79975          2.94598 2022-05-04 19:08:39.125224   \n637              1.09217          3.05725 2022-05-04 19:20:06.001699   \n855             34.21194          2.70805 2022-05-04 19:32:41.377496   \n1026             0.70829          3.87738 2022-05-04 19:48:15.421297   \n1249            52.23626          3.03987 2022-05-04 20:05:47.485151   \n1494            36.19014          2.66412 2022-05-04 20:26:39.861404   \n1623            89.06224          2.30734 2022-05-04 20:38:47.242784   \n1822             0.82838          2.55994 2022-05-04 21:02:18.776568   \n2024          1137.46788          2.14568 2022-05-04 21:50:01.957045   \n\n      perplexity  popularity_score  \n34           3.0          0.239645  \n245          5.0          0.125000  \n422          3.0          0.139423  \n637          3.0          0.178571  \n855          5.0          0.177285  \n1026         3.0          0.082000  \n1249         5.0          0.160088  \n1494         9.0          0.130000  \n1623         3.0          0.252551  \n1822         3.0          0.074000  \n2024         3.0          0.160714  ",
      "text/html": "<div>\n<style scoped>\n    .dataframe tbody tr th:only-of-type {\n        vertical-align: middle;\n    }\n\n    .dataframe tbody tr th {\n        vertical-align: top;\n    }\n\n    .dataframe thead th {\n        text-align: right;\n    }\n</style>\n<table border=\"1\" class=\"dataframe\">\n  <thead>\n    <tr style=\"text-align: right;\">\n      <th></th>\n      <th>clustering_mode</th>\n      <th>explainer</th>\n      <th>contributions</th>\n      <th>clustering_technique</th>\n      <th>dim_red_techs</th>\n      <th>dim_red_techs_params</th>\n      <th>silhouette</th>\n      <th>clusters</th>\n      <th>projections</th>\n      <th>num_clusters</th>\n      <th>time_contributions</th>\n      <th>time_clustering</th>\n      <th>timestamp</th>\n      <th>perplexity</th>\n      <th>popularity_score</th>\n    </tr>\n  </thead>\n  <tbody>\n    <tr>\n      <th>34</th>\n      <td>LocalLatentMode</td>\n      <td>DeconvNet</td>\n      <td>[[[8.2978644e-05, 0.0008877205, 0.0007726211, ...</td>\n      <td>AffinityPropagation</td>\n      <td>[TSNE]</td>\n      <td>[{'angle': 0.5, 'early_exaggeration': 12.0, 'i...</td>\n      <td>0.454</td>\n      <td>[[0, 513, 392, 145, 404, 661, 23, 281, 282, 66...</td>\n      <td>[[-39.440742, 9.458765], [-67.54129, -23.33808...</td>\n      <td>26</td>\n      <td>0.99226</td>\n      <td>3.04880</td>\n      <td>2022-05-04 18:45:37.921028</td>\n      <td>3.0</td>\n      <td>0.239645</td>\n    </tr>\n    <tr>\n      <th>245</th>\n      <td>LocalLatentMode</td>\n      <td>Occlusion</td>\n      <td>[[[0.06040135, 0.06040135, 0.06040135, 0.06040...</td>\n      <td>AffinityPropagation</td>\n      <td>[TSNE]</td>\n      <td>[{'angle': 0.5, 'early_exaggeration': 12.0, 'i...</td>\n      <td>0.471</td>\n      <td>[[0, 131, 259, 260, 394, 403, 22, 154, 289, 67...</td>\n      <td>[[-15.441368, -40.958412], [-69.32139, -36.076...</td>\n      <td>24</td>\n      <td>6.77277</td>\n      <td>2.58879</td>\n      <td>2022-05-04 18:58:45.961888</td>\n      <td>5.0</td>\n      <td>0.125000</td>\n    </tr>\n    <tr>\n      <th>422</th>\n      <td>LocalLatentMode</td>\n      <td>Saliency</td>\n      <td>[[[2.7101485e-05, 0.0001807292, 0.00023244132,...</td>\n      <td>AffinityPropagation</td>\n      <td>[TSNE]</td>\n      <td>[{'angle': 0.5, 'early_exaggeration': 12.0, 'i...</td>\n      <td>0.429</td>\n      <td>[[0, 129, 130, 258, 385, 133, 516, 263, 138, 3...</td>\n      <td>[[2.3603945, -18.774992], [21.418165, 55.15328...</td>\n      <td>26</td>\n      <td>0.79975</td>\n      <td>2.94598</td>\n      <td>2022-05-04 19:08:39.125224</td>\n      <td>3.0</td>\n      <td>0.139423</td>\n    </tr>\n    <tr>\n      <th>637</th>\n      <td>LocalLatentMode</td>\n      <td>GuidedBackprop</td>\n      <td>[[[1.6267093e-05, 0.00016334264, 0.00020178633...</td>\n      <td>AffinityPropagation</td>\n      <td>[TSNE]</td>\n      <td>[{'angle': 0.5, 'early_exaggeration': 12.0, 'i...</td>\n      <td>0.456</td>\n      <td>[[0, 385, 261, 135, 136, 393, 139, 273, 35, 67...</td>\n      <td>[[29.97812, 2.368575], [19.05706, -81.97709], ...</td>\n      <td>28</td>\n      <td>1.09217</td>\n      <td>3.05725</td>\n      <td>2022-05-04 19:20:06.001699</td>\n      <td>3.0</td>\n      <td>0.178571</td>\n    </tr>\n    <tr>\n      <th>855</th>\n      <td>LocalLatentMode</td>\n      <td>Lime</td>\n      <td>[[[0.32830983, 0.32830983, 0.32830983, 0.32830...</td>\n      <td>AffinityPropagation</td>\n      <td>[TSNE]</td>\n      <td>[{'angle': 0.5, 'early_exaggeration': 12.0, 'i...</td>\n      <td>0.474</td>\n      <td>[[0, 768, 258, 770, 262, 657, 18, 658, 148, 21...</td>\n      <td>[[-70.39966, -12.346356], [-28.659304, 22.9139...</td>\n      <td>19</td>\n      <td>34.21194</td>\n      <td>2.70805</td>\n      <td>2022-05-04 19:32:41.377496</td>\n      <td>5.0</td>\n      <td>0.177285</td>\n    </tr>\n    <tr>\n      <th>1026</th>\n      <td>LocalLatentMode</td>\n      <td>GradCAM</td>\n      <td>[[[9.97461e-07, 9.97461e-07, 9.97461e-07, 9.97...</td>\n      <td>AffinityPropagation</td>\n      <td>[TSNE]</td>\n      <td>[{'angle': 0.5, 'early_exaggeration': 12.0, 'i...</td>\n      <td>0.415</td>\n      <td>[[0, 129, 258, 3, 385, 389, 144, 146, 25, 282,...</td>\n      <td>[[-25.412523, 78.634674], [-43.49696, -1.03694...</td>\n      <td>25</td>\n      <td>0.70829</td>\n      <td>3.87738</td>\n      <td>2022-05-04 19:48:15.421297</td>\n      <td>3.0</td>\n      <td>0.082000</td>\n    </tr>\n    <tr>\n      <th>1249</th>\n      <td>LocalLatentMode</td>\n      <td>IntegratedGradients</td>\n      <td>[[[0.0, 0.0, 0.0, 0.0, 0.0, 0.0, 0.0, 0.0, 0.0...</td>\n      <td>AffinityPropagation</td>\n      <td>[TSNE]</td>\n      <td>[{'angle': 0.5, 'early_exaggeration': 12.0, 'i...</td>\n      <td>0.405</td>\n      <td>[[0, 6, 134, 274, 788, 23, 152, 791, 27, 673, ...</td>\n      <td>[[-32.93228, 47.869568], [74.20604, -4.545194]...</td>\n      <td>24</td>\n      <td>52.23626</td>\n      <td>3.03987</td>\n      <td>2022-05-04 20:05:47.485151</td>\n      <td>5.0</td>\n      <td>0.160088</td>\n    </tr>\n    <tr>\n      <th>1494</th>\n      <td>LocalLatentMode</td>\n      <td>KernelShap</td>\n      <td>[[[0.34670442, 0.34670442, 0.34670442, 0.34670...</td>\n      <td>AffinityPropagation</td>\n      <td>[TSNE]</td>\n      <td>[{'angle': 0.5, 'early_exaggeration': 12.0, 'i...</td>\n      <td>0.451</td>\n      <td>[[0, 262, 138, 529, 147, 148, 404, 790, 24, 66...</td>\n      <td>[[-42.15512, -39.966053], [-52.079082, -19.219...</td>\n      <td>20</td>\n      <td>36.19014</td>\n      <td>2.66412</td>\n      <td>2022-05-04 20:26:39.861404</td>\n      <td>9.0</td>\n      <td>0.130000</td>\n    </tr>\n    <tr>\n      <th>1623</th>\n      <td>LocalLatentMode</td>\n      <td>SmoothGrad</td>\n      <td>[[[1.9669034e-05, 0.00016607913, 8.633334e-05,...</td>\n      <td>AffinityPropagation</td>\n      <td>[TSNE]</td>\n      <td>[{'angle': 0.5, 'early_exaggeration': 12.0, 'i...</td>\n      <td>0.481</td>\n      <td>[[0, 768, 5, 773, 775, 776, 777, 145, 147, 281...</td>\n      <td>[[1.8713665, -47.680733], [-56.605103, -36.576...</td>\n      <td>28</td>\n      <td>89.06224</td>\n      <td>2.30734</td>\n      <td>2022-05-04 20:38:47.242784</td>\n      <td>3.0</td>\n      <td>0.252551</td>\n    </tr>\n    <tr>\n      <th>1822</th>\n      <td>LocalLatentMode</td>\n      <td>GradCAMPP</td>\n      <td>[[[1.2826963e-05, 1.2826963e-05, 1.2826963e-05...</td>\n      <td>AffinityPropagation</td>\n      <td>[TSNE]</td>\n      <td>[{'angle': 0.5, 'early_exaggeration': 12.0, 'i...</td>\n      <td>0.412</td>\n      <td>[[0, 385, 260, 523, 18, 148, 31, 420, 166, 298...</td>\n      <td>[[-3.6947782, 12.586874], [-59.63552, 25.05140...</td>\n      <td>25</td>\n      <td>0.82838</td>\n      <td>2.55994</td>\n      <td>2022-05-04 21:02:18.776568</td>\n      <td>3.0</td>\n      <td>0.074000</td>\n    </tr>\n    <tr>\n      <th>2024</th>\n      <td>LocalLatentMode</td>\n      <td>Rise</td>\n      <td>[[[0.2205074, 0.2205155, 0.22057432, 0.2201344...</td>\n      <td>AffinityPropagation</td>\n      <td>[TSNE]</td>\n      <td>[{'angle': 0.5, 'early_exaggeration': 12.0, 'i...</td>\n      <td>0.476</td>\n      <td>[[0, 260, 6, 394, 145, 147, 21, 412, 157, 672,...</td>\n      <td>[[-90.3332, 6.624815], [-13.72313, 12.919796],...</td>\n      <td>28</td>\n      <td>1137.46788</td>\n      <td>2.14568</td>\n      <td>2022-05-04 21:50:01.957045</td>\n      <td>3.0</td>\n      <td>0.160714</td>\n    </tr>\n  </tbody>\n</table>\n</div>"
     },
     "execution_count": 13,
     "metadata": {},
     "output_type": "execute_result"
    }
   ],
   "source": [
    "from utils.cluster.sample import sample_most_popular\n",
    "\n",
    "sample_most_popular(df, 'explainer')"
   ],
   "metadata": {
    "collapsed": false,
    "pycharm": {
     "name": "#%%\n"
    }
   }
  },
  {
   "cell_type": "code",
   "execution_count": null,
   "outputs": [],
   "source": [],
   "metadata": {
    "collapsed": false,
    "pycharm": {
     "name": "#%%\n"
    }
   }
  }
 ],
 "metadata": {
  "kernelspec": {
   "display_name": "Python 3",
   "language": "python",
   "name": "python3"
  },
  "language_info": {
   "codemirror_mode": {
    "name": "ipython",
    "version": 2
   },
   "file_extension": ".py",
   "mimetype": "text/x-python",
   "name": "python",
   "nbconvert_exporter": "python",
   "pygments_lexer": "ipython2",
   "version": "2.7.6"
  }
 },
 "nbformat": 4,
 "nbformat_minor": 0
}