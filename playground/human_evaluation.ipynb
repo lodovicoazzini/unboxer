{
 "cells": [
  {
   "cell_type": "code",
   "execution_count": 1,
   "metadata": {
    "collapsed": true
   },
   "outputs": [],
   "source": [
    "\n",
    "%reload_ext autoreload\n",
    "%autoreload 2\n",
    "%matplotlib inline"
   ]
  },
  {
   "cell_type": "code",
   "execution_count": 2,
   "outputs": [
    {
     "name": "stderr",
     "output_type": "stream",
     "text": [
      "2022-05-10 21:01:32.969415: I tensorflow/core/platform/cpu_feature_guard.cc:151] This TensorFlow binary is optimized with oneAPI Deep Neural Network Library (oneDNN) to use the following CPU instructions in performance-critical operations:  SSE4.1 SSE4.2 AVX AVX2 FMA\n",
      "To enable them in other operations, rebuild TensorFlow with the appropriate compiler flags.\n"
     ]
    }
   ],
   "source": [
    "import numpy as np\n",
    "import pandas as pd\n",
    "\n",
    "from utils.dataset import get_train_test_data, get_data_masks\n",
    "\n",
    "# Read the featuremaps clusters data\n",
    "featuremaps_df = pd.read_pickle('../logs/feature_combinations_clusters')\n",
    "# Compute the total time\n",
    "featuremaps_df['time'] = featuremaps_df['map_time'] + featuremaps_df['features_extraction']\n",
    "featuremaps_df = featuremaps_df.drop(columns=['map_time', 'features_extraction'])\n",
    "\n",
    "# Filter for the desired approach\n",
    "featuremaps_df = featuremaps_df[\n",
    "    # (featuremaps_df['map_size']  == '10x10') &\n",
    "    (featuremaps_df['mode'] == 'original')\n",
    "]\n",
    "\n",
    "featuremaps_df['approach'] = featuremaps_df.apply(\n",
    "    lambda row: f'{row[\"approach\"]}({row[\"map_size\"]})_{row[\"mode\"]}',\n",
    "    axis=1\n",
    ")\n",
    "\n",
    "# Read the heatmaps data\n",
    "heatmaps_df = pd.read_pickle('../logs/heatmaps_data')\n",
    "# Get the tuples linking each approach to its best configuration\n",
    "heatmaps_df['perplexity'] = heatmaps_df['dim_red_techs_params'].apply(lambda params: float(params[-1]['perplexity']))\n",
    "best_configs_df = pd.read_csv('../logs/best_configs.csv')\n",
    "best_config_combs = list(\n",
    "        best_configs_df[['explainer', 'perplexity']].itertuples(index=False, name=None)\n",
    "    )\n",
    "# Filter the data for the best configurations\n",
    "heatmaps_df = heatmaps_df[heatmaps_df[['explainer', 'perplexity']].apply(tuple, axis=1).isin(best_config_combs)]\n",
    "\n",
    "# Drop the values with null silhouette score\n",
    "heatmaps_df = heatmaps_df.dropna(subset=['silhouette']).reset_index(drop=True)\n",
    "# Keep the column of interest\n",
    "heatmaps_df = heatmaps_df[['clustering_mode', 'explainer', 'clustering_technique', 'clusters', 'contributions', 'time_clustering', 'time_contributions']]\n",
    "heatmaps_df = heatmaps_df.rename(columns={'explainer': 'approach'})\n",
    "# Merge the information for the clustering mode\n",
    "heatmaps_df['clustering_mode'] = heatmaps_df.apply(lambda row: f'{row[\"clustering_technique\"]}({row[\"clustering_mode\"]})', axis=1)\n",
    "heatmaps_df = heatmaps_df.drop(columns=['clustering_technique'])\n",
    "# Compute the total time\n",
    "heatmaps_df['time'] = heatmaps_df['time_clustering'] + heatmaps_df['time_contributions']\n",
    "heatmaps_df = heatmaps_df.drop(columns=['time_clustering', 'time_contributions'])\n",
    "\n",
    "# Merge all the clusters together\n",
    "complete_df = pd.concat([featuremaps_df, heatmaps_df]).reset_index(drop=True)\n",
    "\n",
    "# Extract the data about the number of clusters\n",
    "complete_df['num_clusters'] = complete_df['clusters'].apply(len)\n",
    "# Extract data about the clusters sizes\n",
    "complete_df['clusters_sizes'] = complete_df['clusters'].apply(lambda clusters: [len(cluster) for cluster in clusters])\n",
    "\n",
    "# Get the indexes of the misclassified elements\n",
    "(train_data, train_labels), (test_data, test_labels) = get_train_test_data(rgb=True)\n",
    "predictions = np.loadtxt('../in/predictions.csv')\n",
    "mask_miss, mask_label = get_data_masks(test_labels, predictions, label=5)\n",
    "mask_miss_label = mask_miss[mask_label]\n",
    "misclassified_idxs = np.argwhere(mask_miss_label == True)\n",
    "# Find the fraction of misclassified data in each cluster\n",
    "complete_df['frac_misses'] = complete_df['clusters'].apply(\n",
    "    lambda clusters: [\n",
    "        len([entry for entry in cluster if entry in misclassified_idxs]) / len(cluster)\n",
    "        for cluster in clusters\n",
    "    ]\n",
    ")\n",
    "# Find the fraction of clusters containing both correct and incorrect classifications\n",
    "complete_df['frac_mixed'] = complete_df['frac_misses'].apply(lambda misses: len([entry for entry in misses if 0 < entry < 1]) / len(misses))"
   ],
   "metadata": {
    "collapsed": false,
    "pycharm": {
     "name": "#%%\n"
    }
   }
  },
  {
   "cell_type": "code",
   "execution_count": 5,
   "outputs": [],
   "source": [
    "from utils.cluster.postprocessing import get_popularity_score\n",
    "\n",
    "selected_clusters = pd.DataFrame.copy(complete_df, deep=True)\n",
    "# Find all the clusters configurations and the number of samples for each approach\n",
    "approaches_merged = complete_df.groupby('approach').agg({'clusters': [sum, len]})\n",
    "# Find the popularity score of each cluster configuration\n",
    "selected_clusters['popularity_score'] = selected_clusters.apply(\n",
    "    lambda row: get_popularity_score(\n",
    "        row['clusters'],\n",
    "        approaches_merged.loc[row['approach']].loc['clusters', 'sum'],\n",
    "        approaches_merged.loc[row['approach']].loc['clusters', 'len']\n",
    "    ),\n",
    "    axis=1\n",
    ")\n",
    "# For each approach, choose the cluster configuration with the highest popularity score\n",
    "selected_clusters['rank'] = selected_clusters.groupby('approach')['popularity_score'].rank(method='dense', ascending=False).astype(int)\n",
    "selected_clusters = selected_clusters[selected_clusters['rank'] == 1].drop(columns='rank')\n",
    "# selected_clusters = selected_clusters.set_index('approach')"
   ],
   "metadata": {
    "collapsed": false,
    "pycharm": {
     "name": "#%%\n"
    }
   }
  },
  {
   "cell_type": "code",
   "execution_count": 6,
   "outputs": [
    {
     "data": {
      "text/plain": "                                approach map_size      mode  \\\n0          moves+bitmaps(10x10)_original    10x10  original   \n1      moves+orientation(10x10)_original    10x10  original   \n2    orientation+bitmaps(10x10)_original    10x10  original   \n3          moves+bitmaps(25x25)_original    25x25  original   \n4      moves+orientation(25x25)_original    25x25  original   \n5    orientation+bitmaps(25x25)_original    25x25  original   \n16                             DeconvNet      NaN       NaN   \n24                             Occlusion      NaN       NaN   \n39                              Saliency      NaN       NaN   \n70                        GuidedBackprop      NaN       NaN   \n88                                  Lime      NaN       NaN   \n98                               GradCAM      NaN       NaN   \n121                  IntegratedGradients      NaN       NaN   \n145                           KernelShap      NaN       NaN   \n154                           SmoothGrad      NaN       NaN   \n167                            GradCAMPP      NaN       NaN   \n186                                 Rise      NaN       NaN   \n\n                                              clusters         time  \\\n0    [[670], [48, 163, 252, 254, 274, 279, 401, 426...    33.516399   \n1    [[28, 119, 263, 277, 339, 453], [20, 38, 72, 8...    33.548912   \n2    [[28, 339, 453], [119, 263, 277], [248], [252,...    33.514015   \n3    [[670], [48, 274, 279, 520], [252, 254, 426, 5...    35.459562   \n4    [[339], [28, 277, 453], [119, 125, 210, 263, 3...    35.500076   \n5    [[339], [453], [28], [277], [125], [263], [119...    35.661948   \n16   [[0, 513, 392, 145, 404, 661, 23, 281, 282, 66...     4.041060   \n24   [[0, 131, 259, 260, 394, 403, 22, 154, 289, 67...     9.361560   \n39   [[0, 129, 130, 258, 385, 133, 516, 263, 138, 3...     3.745730   \n70   [[0, 385, 261, 135, 136, 393, 139, 273, 35, 67...     4.149420   \n88   [[0, 768, 258, 770, 262, 657, 18, 658, 148, 21...    36.919990   \n98   [[0, 129, 258, 3, 385, 389, 144, 146, 25, 282,...     4.585670   \n121  [[0, 6, 134, 274, 788, 23, 152, 791, 27, 673, ...    55.276130   \n145  [[0, 262, 138, 529, 147, 148, 404, 790, 24, 66...    38.854260   \n154  [[0, 768, 5, 773, 775, 776, 777, 145, 147, 281...    91.369580   \n167  [[0, 385, 260, 523, 18, 148, 31, 420, 166, 298...     3.388320   \n186  [[0, 260, 6, 394, 145, 147, 21, 412, 157, 672,...  1139.613560   \n\n                          clustering_mode  \\\n0                                     NaN   \n1                                     NaN   \n2                                     NaN   \n3                                     NaN   \n4                                     NaN   \n5                                     NaN   \n16   AffinityPropagation(LocalLatentMode)   \n24   AffinityPropagation(LocalLatentMode)   \n39   AffinityPropagation(LocalLatentMode)   \n70   AffinityPropagation(LocalLatentMode)   \n88   AffinityPropagation(LocalLatentMode)   \n98   AffinityPropagation(LocalLatentMode)   \n121  AffinityPropagation(LocalLatentMode)   \n145  AffinityPropagation(LocalLatentMode)   \n154  AffinityPropagation(LocalLatentMode)   \n167  AffinityPropagation(LocalLatentMode)   \n186  AffinityPropagation(LocalLatentMode)   \n\n                                         contributions  num_clusters  \\\n0                                                  NaN            47   \n1                                                  NaN            44   \n2                                                  NaN            55   \n3                                                  NaN            88   \n4                                                  NaN            92   \n5                                                  NaN           241   \n16   [[[8.2978644e-05, 0.0008877205, 0.0007726211, ...            26   \n24   [[[0.06040135, 0.06040135, 0.06040135, 0.06040...            24   \n39   [[[2.7101485e-05, 0.0001807292, 0.00023244132,...            26   \n70   [[[1.6267093e-05, 0.00016334264, 0.00020178633...            28   \n88   [[[0.32830983, 0.32830983, 0.32830983, 0.32830...            19   \n98   [[[9.97461e-07, 9.97461e-07, 9.97461e-07, 9.97...            25   \n121  [[[0.0, 0.0, 0.0, 0.0, 0.0, 0.0, 0.0, 0.0, 0.0...            24   \n145  [[[0.34670442, 0.34670442, 0.34670442, 0.34670...            20   \n154  [[[1.9669034e-05, 0.00016607913, 8.633334e-05,...            28   \n167  [[[1.2826963e-05, 1.2826963e-05, 1.2826963e-05...            25   \n186  [[[0.2205074, 0.2205155, 0.22057432, 0.2201344...            28   \n\n                                        clusters_sizes  \\\n0    [1, 15, 90, 222, 208, 148, 90, 21, 6, 1, 1, 1,...   \n1    [6, 41, 76, 115, 118, 220, 176, 42, 7, 1, 1, 2...   \n2    [3, 3, 1, 2, 3, 16, 16, 3, 2, 5, 26, 15, 24, 9...   \n3    [1, 4, 8, 11, 34, 48, 80, 79, 91, 83, 75, 66, ...   \n4    [1, 3, 5, 5, 20, 22, 34, 33, 40, 42, 48, 46, 4...   \n5    [1, 1, 1, 1, 1, 1, 2, 1, 1, 3, 1, 1, 1, 1, 1, ...   \n16   [46, 24, 56, 37, 35, 51, 56, 42, 36, 50, 25, 1...   \n24   [38, 39, 38, 38, 56, 34, 27, 33, 12, 38, 40, 2...   \n39   [48, 43, 64, 41, 39, 25, 49, 46, 34, 15, 30, 3...   \n70   [33, 37, 37, 45, 53, 27, 36, 52, 45, 48, 36, 2...   \n88   [44, 48, 51, 60, 58, 51, 34, 42, 60, 55, 41, 4...   \n98   [40, 46, 46, 42, 49, 34, 41, 37, 42, 39, 23, 2...   \n121  [45, 32, 23, 30, 43, 37, 28, 48, 51, 38, 38, 3...   \n145  [36, 64, 45, 62, 37, 48, 41, 35, 47, 38, 46, 3...   \n154  [52, 33, 37, 22, 46, 41, 43, 43, 31, 34, 17, 4...   \n167  [26, 44, 51, 45, 40, 52, 44, 57, 46, 39, 27, 4...   \n186  [31, 32, 48, 28, 28, 37, 35, 40, 30, 35, 37, 1...   \n\n                                           frac_misses  frac_mixed  \\\n0    [1.0, 0.4666666666666667, 0.3111111111111111, ...    0.319149   \n1    [0.16666666666666666, 0.4146341463414634, 0.31...    0.431818   \n2    [0.3333333333333333, 0.0, 0.0, 1.0, 0.66666666...    0.709091   \n3    [1.0, 0.75, 0.25, 0.6363636363636364, 0.441176...    0.261364   \n4    [1.0, 0.0, 0.2, 0.8, 0.4, 0.36363636363636365,...    0.250000   \n5    [1.0, 0.0, 0.0, 0.0, 1.0, 0.0, 0.0, 0.0, 1.0, ...    0.360996   \n16   [0.0, 0.0, 0.0, 0.0, 0.14285714285714285, 0.0,...    0.115385   \n24   [0.5263157894736842, 0.05128205128205128, 0.21...    0.916667   \n39   [0.0625, 0.0, 0.0, 0.14634146341463414, 0.1794...    0.538462   \n70   [0.5757575757575758, 0.0, 0.0, 0.0, 0.0, 0.0, ...    0.107143   \n88   [0.0, 0.0, 0.13725490196078433, 0.0, 0.2586206...    0.578947   \n98   [0.025, 0.043478260869565216, 0.04347826086956...    0.840000   \n121  [0.0, 0.0, 0.0, 0.0, 0.0, 0.0, 0.0, 0.0, 0.0, ...    0.041667   \n145  [0.0, 0.015625, 0.044444444444444446, 0.0, 0.1...    0.700000   \n154  [0.0, 0.0, 0.0, 0.0, 0.0, 0.0, 0.0, 0.0, 0.0, ...    0.000000   \n167  [0.15384615384615385, 0.3409090909090909, 0.01...    0.840000   \n186  [0.03225806451612903, 0.03125, 0.0625, 0.07142...    0.678571   \n\n     popularity_score  \n0            1.000000  \n1            1.000000  \n2            1.000000  \n3            1.000000  \n4            1.000000  \n5            1.000000  \n16           0.239645  \n24           0.125000  \n39           0.139423  \n70           0.178571  \n88           0.177285  \n98           0.082000  \n121          0.160088  \n145          0.130000  \n154          0.252551  \n167          0.074000  \n186          0.160714  ",
      "text/html": "<div>\n<style scoped>\n    .dataframe tbody tr th:only-of-type {\n        vertical-align: middle;\n    }\n\n    .dataframe tbody tr th {\n        vertical-align: top;\n    }\n\n    .dataframe thead th {\n        text-align: right;\n    }\n</style>\n<table border=\"1\" class=\"dataframe\">\n  <thead>\n    <tr style=\"text-align: right;\">\n      <th></th>\n      <th>approach</th>\n      <th>map_size</th>\n      <th>mode</th>\n      <th>clusters</th>\n      <th>time</th>\n      <th>clustering_mode</th>\n      <th>contributions</th>\n      <th>num_clusters</th>\n      <th>clusters_sizes</th>\n      <th>frac_misses</th>\n      <th>frac_mixed</th>\n      <th>popularity_score</th>\n    </tr>\n  </thead>\n  <tbody>\n    <tr>\n      <th>0</th>\n      <td>moves+bitmaps(10x10)_original</td>\n      <td>10x10</td>\n      <td>original</td>\n      <td>[[670], [48, 163, 252, 254, 274, 279, 401, 426...</td>\n      <td>33.516399</td>\n      <td>NaN</td>\n      <td>NaN</td>\n      <td>47</td>\n      <td>[1, 15, 90, 222, 208, 148, 90, 21, 6, 1, 1, 1,...</td>\n      <td>[1.0, 0.4666666666666667, 0.3111111111111111, ...</td>\n      <td>0.319149</td>\n      <td>1.000000</td>\n    </tr>\n    <tr>\n      <th>1</th>\n      <td>moves+orientation(10x10)_original</td>\n      <td>10x10</td>\n      <td>original</td>\n      <td>[[28, 119, 263, 277, 339, 453], [20, 38, 72, 8...</td>\n      <td>33.548912</td>\n      <td>NaN</td>\n      <td>NaN</td>\n      <td>44</td>\n      <td>[6, 41, 76, 115, 118, 220, 176, 42, 7, 1, 1, 2...</td>\n      <td>[0.16666666666666666, 0.4146341463414634, 0.31...</td>\n      <td>0.431818</td>\n      <td>1.000000</td>\n    </tr>\n    <tr>\n      <th>2</th>\n      <td>orientation+bitmaps(10x10)_original</td>\n      <td>10x10</td>\n      <td>original</td>\n      <td>[[28, 339, 453], [119, 263, 277], [248], [252,...</td>\n      <td>33.514015</td>\n      <td>NaN</td>\n      <td>NaN</td>\n      <td>55</td>\n      <td>[3, 3, 1, 2, 3, 16, 16, 3, 2, 5, 26, 15, 24, 9...</td>\n      <td>[0.3333333333333333, 0.0, 0.0, 1.0, 0.66666666...</td>\n      <td>0.709091</td>\n      <td>1.000000</td>\n    </tr>\n    <tr>\n      <th>3</th>\n      <td>moves+bitmaps(25x25)_original</td>\n      <td>25x25</td>\n      <td>original</td>\n      <td>[[670], [48, 274, 279, 520], [252, 254, 426, 5...</td>\n      <td>35.459562</td>\n      <td>NaN</td>\n      <td>NaN</td>\n      <td>88</td>\n      <td>[1, 4, 8, 11, 34, 48, 80, 79, 91, 83, 75, 66, ...</td>\n      <td>[1.0, 0.75, 0.25, 0.6363636363636364, 0.441176...</td>\n      <td>0.261364</td>\n      <td>1.000000</td>\n    </tr>\n    <tr>\n      <th>4</th>\n      <td>moves+orientation(25x25)_original</td>\n      <td>25x25</td>\n      <td>original</td>\n      <td>[[339], [28, 277, 453], [119, 125, 210, 263, 3...</td>\n      <td>35.500076</td>\n      <td>NaN</td>\n      <td>NaN</td>\n      <td>92</td>\n      <td>[1, 3, 5, 5, 20, 22, 34, 33, 40, 42, 48, 46, 4...</td>\n      <td>[1.0, 0.0, 0.2, 0.8, 0.4, 0.36363636363636365,...</td>\n      <td>0.250000</td>\n      <td>1.000000</td>\n    </tr>\n    <tr>\n      <th>5</th>\n      <td>orientation+bitmaps(25x25)_original</td>\n      <td>25x25</td>\n      <td>original</td>\n      <td>[[339], [453], [28], [277], [125], [263], [119...</td>\n      <td>35.661948</td>\n      <td>NaN</td>\n      <td>NaN</td>\n      <td>241</td>\n      <td>[1, 1, 1, 1, 1, 1, 2, 1, 1, 3, 1, 1, 1, 1, 1, ...</td>\n      <td>[1.0, 0.0, 0.0, 0.0, 1.0, 0.0, 0.0, 0.0, 1.0, ...</td>\n      <td>0.360996</td>\n      <td>1.000000</td>\n    </tr>\n    <tr>\n      <th>16</th>\n      <td>DeconvNet</td>\n      <td>NaN</td>\n      <td>NaN</td>\n      <td>[[0, 513, 392, 145, 404, 661, 23, 281, 282, 66...</td>\n      <td>4.041060</td>\n      <td>AffinityPropagation(LocalLatentMode)</td>\n      <td>[[[8.2978644e-05, 0.0008877205, 0.0007726211, ...</td>\n      <td>26</td>\n      <td>[46, 24, 56, 37, 35, 51, 56, 42, 36, 50, 25, 1...</td>\n      <td>[0.0, 0.0, 0.0, 0.0, 0.14285714285714285, 0.0,...</td>\n      <td>0.115385</td>\n      <td>0.239645</td>\n    </tr>\n    <tr>\n      <th>24</th>\n      <td>Occlusion</td>\n      <td>NaN</td>\n      <td>NaN</td>\n      <td>[[0, 131, 259, 260, 394, 403, 22, 154, 289, 67...</td>\n      <td>9.361560</td>\n      <td>AffinityPropagation(LocalLatentMode)</td>\n      <td>[[[0.06040135, 0.06040135, 0.06040135, 0.06040...</td>\n      <td>24</td>\n      <td>[38, 39, 38, 38, 56, 34, 27, 33, 12, 38, 40, 2...</td>\n      <td>[0.5263157894736842, 0.05128205128205128, 0.21...</td>\n      <td>0.916667</td>\n      <td>0.125000</td>\n    </tr>\n    <tr>\n      <th>39</th>\n      <td>Saliency</td>\n      <td>NaN</td>\n      <td>NaN</td>\n      <td>[[0, 129, 130, 258, 385, 133, 516, 263, 138, 3...</td>\n      <td>3.745730</td>\n      <td>AffinityPropagation(LocalLatentMode)</td>\n      <td>[[[2.7101485e-05, 0.0001807292, 0.00023244132,...</td>\n      <td>26</td>\n      <td>[48, 43, 64, 41, 39, 25, 49, 46, 34, 15, 30, 3...</td>\n      <td>[0.0625, 0.0, 0.0, 0.14634146341463414, 0.1794...</td>\n      <td>0.538462</td>\n      <td>0.139423</td>\n    </tr>\n    <tr>\n      <th>70</th>\n      <td>GuidedBackprop</td>\n      <td>NaN</td>\n      <td>NaN</td>\n      <td>[[0, 385, 261, 135, 136, 393, 139, 273, 35, 67...</td>\n      <td>4.149420</td>\n      <td>AffinityPropagation(LocalLatentMode)</td>\n      <td>[[[1.6267093e-05, 0.00016334264, 0.00020178633...</td>\n      <td>28</td>\n      <td>[33, 37, 37, 45, 53, 27, 36, 52, 45, 48, 36, 2...</td>\n      <td>[0.5757575757575758, 0.0, 0.0, 0.0, 0.0, 0.0, ...</td>\n      <td>0.107143</td>\n      <td>0.178571</td>\n    </tr>\n    <tr>\n      <th>88</th>\n      <td>Lime</td>\n      <td>NaN</td>\n      <td>NaN</td>\n      <td>[[0, 768, 258, 770, 262, 657, 18, 658, 148, 21...</td>\n      <td>36.919990</td>\n      <td>AffinityPropagation(LocalLatentMode)</td>\n      <td>[[[0.32830983, 0.32830983, 0.32830983, 0.32830...</td>\n      <td>19</td>\n      <td>[44, 48, 51, 60, 58, 51, 34, 42, 60, 55, 41, 4...</td>\n      <td>[0.0, 0.0, 0.13725490196078433, 0.0, 0.2586206...</td>\n      <td>0.578947</td>\n      <td>0.177285</td>\n    </tr>\n    <tr>\n      <th>98</th>\n      <td>GradCAM</td>\n      <td>NaN</td>\n      <td>NaN</td>\n      <td>[[0, 129, 258, 3, 385, 389, 144, 146, 25, 282,...</td>\n      <td>4.585670</td>\n      <td>AffinityPropagation(LocalLatentMode)</td>\n      <td>[[[9.97461e-07, 9.97461e-07, 9.97461e-07, 9.97...</td>\n      <td>25</td>\n      <td>[40, 46, 46, 42, 49, 34, 41, 37, 42, 39, 23, 2...</td>\n      <td>[0.025, 0.043478260869565216, 0.04347826086956...</td>\n      <td>0.840000</td>\n      <td>0.082000</td>\n    </tr>\n    <tr>\n      <th>121</th>\n      <td>IntegratedGradients</td>\n      <td>NaN</td>\n      <td>NaN</td>\n      <td>[[0, 6, 134, 274, 788, 23, 152, 791, 27, 673, ...</td>\n      <td>55.276130</td>\n      <td>AffinityPropagation(LocalLatentMode)</td>\n      <td>[[[0.0, 0.0, 0.0, 0.0, 0.0, 0.0, 0.0, 0.0, 0.0...</td>\n      <td>24</td>\n      <td>[45, 32, 23, 30, 43, 37, 28, 48, 51, 38, 38, 3...</td>\n      <td>[0.0, 0.0, 0.0, 0.0, 0.0, 0.0, 0.0, 0.0, 0.0, ...</td>\n      <td>0.041667</td>\n      <td>0.160088</td>\n    </tr>\n    <tr>\n      <th>145</th>\n      <td>KernelShap</td>\n      <td>NaN</td>\n      <td>NaN</td>\n      <td>[[0, 262, 138, 529, 147, 148, 404, 790, 24, 66...</td>\n      <td>38.854260</td>\n      <td>AffinityPropagation(LocalLatentMode)</td>\n      <td>[[[0.34670442, 0.34670442, 0.34670442, 0.34670...</td>\n      <td>20</td>\n      <td>[36, 64, 45, 62, 37, 48, 41, 35, 47, 38, 46, 3...</td>\n      <td>[0.0, 0.015625, 0.044444444444444446, 0.0, 0.1...</td>\n      <td>0.700000</td>\n      <td>0.130000</td>\n    </tr>\n    <tr>\n      <th>154</th>\n      <td>SmoothGrad</td>\n      <td>NaN</td>\n      <td>NaN</td>\n      <td>[[0, 768, 5, 773, 775, 776, 777, 145, 147, 281...</td>\n      <td>91.369580</td>\n      <td>AffinityPropagation(LocalLatentMode)</td>\n      <td>[[[1.9669034e-05, 0.00016607913, 8.633334e-05,...</td>\n      <td>28</td>\n      <td>[52, 33, 37, 22, 46, 41, 43, 43, 31, 34, 17, 4...</td>\n      <td>[0.0, 0.0, 0.0, 0.0, 0.0, 0.0, 0.0, 0.0, 0.0, ...</td>\n      <td>0.000000</td>\n      <td>0.252551</td>\n    </tr>\n    <tr>\n      <th>167</th>\n      <td>GradCAMPP</td>\n      <td>NaN</td>\n      <td>NaN</td>\n      <td>[[0, 385, 260, 523, 18, 148, 31, 420, 166, 298...</td>\n      <td>3.388320</td>\n      <td>AffinityPropagation(LocalLatentMode)</td>\n      <td>[[[1.2826963e-05, 1.2826963e-05, 1.2826963e-05...</td>\n      <td>25</td>\n      <td>[26, 44, 51, 45, 40, 52, 44, 57, 46, 39, 27, 4...</td>\n      <td>[0.15384615384615385, 0.3409090909090909, 0.01...</td>\n      <td>0.840000</td>\n      <td>0.074000</td>\n    </tr>\n    <tr>\n      <th>186</th>\n      <td>Rise</td>\n      <td>NaN</td>\n      <td>NaN</td>\n      <td>[[0, 260, 6, 394, 145, 147, 21, 412, 157, 672,...</td>\n      <td>1139.613560</td>\n      <td>AffinityPropagation(LocalLatentMode)</td>\n      <td>[[[0.2205074, 0.2205155, 0.22057432, 0.2201344...</td>\n      <td>28</td>\n      <td>[31, 32, 48, 28, 28, 37, 35, 40, 30, 35, 37, 1...</td>\n      <td>[0.03225806451612903, 0.03125, 0.0625, 0.07142...</td>\n      <td>0.678571</td>\n      <td>0.160714</td>\n    </tr>\n  </tbody>\n</table>\n</div>"
     },
     "execution_count": 6,
     "metadata": {},
     "output_type": "execute_result"
    }
   ],
   "source": [
    "selected_clusters"
   ],
   "metadata": {
    "collapsed": false,
    "pycharm": {
     "name": "#%%\n"
    }
   }
  },
  {
   "cell_type": "code",
   "execution_count": 14,
   "outputs": [
    {
     "data": {
      "text/plain": "<Figure size 1152x648 with 1 Axes>",
      "image/png": "[encoded data removed]"
     },
     "metadata": {
      "needs_background": "light"
     },
     "output_type": "display_data"
    }
   ],
   "source": [
    "import matplotlib.pyplot as plt\n",
    "import seaborn as sns\n",
    "from utils.general import save_figure\n",
    "\n",
    "fig = plt.figure(figsize=(16,9))\n",
    "plot_data = selected_clusters[~selected_clusters['clustering_mode'].isna()]\n",
    "plot_data = plot_data.set_index('approach').loc[plot_data.groupby('approach')['popularity_score'].median().sort_values(ascending=False).index]\n",
    "ax = sns.boxplot(x=plot_data.index, y='popularity_score', data=plot_data, color=sns.color_palette()[0], showfliers=False)\n",
    "ax.set_title('Distribution of the popularity score by approach')\n",
    "plt.xticks(rotation=90)\n",
    "sns.despine()\n",
    "save_figure(fig, '/Users/lodovicoazzini/Desktop/pularity')"
   ],
   "metadata": {
    "collapsed": false,
    "pycharm": {
     "name": "#%%\n"
    }
   }
  },
  {
   "cell_type": "code",
   "execution_count": 23,
   "outputs": [
    {
     "name": "stdout",
     "output_type": "stream",
     "text": [
      "1/17 - moves+bitmaps(10x10)_original\n",
      "[====================]\t100%\n",
      "2/17 - moves+orientation(10x10)_original\n",
      "[====================]\t100%\n",
      "3/17 - orientation+bitmaps(10x10)_original\n",
      "[====================]\t100%\n",
      "4/17 - moves+bitmaps(25x25)_original\n",
      "[====================]\t100%\n",
      "5/17 - moves+orientation(25x25)_original\n",
      "[====================]\t100%\n",
      "6/17 - orientation+bitmaps(25x25)_original\n",
      "[====================]\t100%\n",
      "7/17 - DeconvNet\n",
      "[====================]\t100%\n",
      "8/17 - Occlusion\n",
      "[====================]\t100%\n",
      "9/17 - Saliency\n",
      "[====================]\t100%\n",
      "10/17 - GuidedBackprop\n",
      "[====================]\t100%\n",
      "11/17 - Lime\n",
      "[====================]\t100%\n",
      "12/17 - GradCAM\n",
      "[====================]\t100%\n",
      "13/17 - IntegratedGradients\n",
      "[====================]\t100%\n",
      "14/17 - KernelShap\n",
      "[====================]\t100%\n",
      "15/17 - SmoothGrad\n",
      "[====================]\t100%\n",
      "16/17 - GradCAMPP\n",
      "[====================]\t100%\n",
      "17/17 - Rise\n",
      "[====================]\t100%\n"
     ]
    }
   ],
   "source": [
    "from matplotlib import pyplot as plt\n",
    "import tensorflow as tf\n",
    "from utils.cluster.visualize import visualize_cluster_images\n",
    "from utils.general import get_balanced_samples, save_figure\n",
    "import sys\n",
    "from utils.cluster.postprocessing import get_misses_count, get_labels_purity\n",
    "\n",
    "# Iterate through the approaches\n",
    "approaches = selected_clusters.index.values\n",
    "for idx_approach, approach in enumerate(approaches):\n",
    "    sys.stdout.write('\\r')\n",
    "    sys.stdout.write(\n",
    "        f'{idx_approach + 1}/{len(approaches)} - {approach}\\n'\n",
    "    )\n",
    "    # Get the clusters for the selected approach\n",
    "    clusters, contributions = selected_clusters.loc[approach][['clusters', 'contributions']]\n",
    "    clusters = np.array(clusters, dtype=list)\n",
    "    # Create the numpy array for the contributions or set it to None if no contributions\n",
    "    contributions = None if type(contributions) == float else np.array(contributions, dtype=float)\n",
    "    # Find the count of misclassified entries in each cluster\n",
    "    counts_misses = np.vectorize(lambda cl: get_misses_count(cl, predictions=predictions))(clusters)\n",
    "    # Find the purity and impurity of each cluster\n",
    "    purities = np.vectorize(lambda cl: get_labels_purity(cl, predictions=predictions))(clusters)\n",
    "    # Weight the purity and impurity based on the count of misclassified elements in log scale\n",
    "    counts_misses_log = np.vectorize(lambda val: 0 if val == 0 else np.log(val))(counts_misses)\n",
    "    # Get the pure and impure sample\n",
    "    pure_sample, impure_sample = get_balanced_samples(clusters, sample_size=5, balanced_by=purities, weights=counts_misses_log)\n",
    "    all_samples = np.concatenate((pure_sample, impure_sample))\n",
    "\n",
    "    for idx, cluster in enumerate(all_samples):\n",
    "        fig, ax = visualize_cluster_images(\n",
    "            np.array(cluster),\n",
    "            images=tf.image.rgb_to_grayscale(test_data[mask_label]).numpy(),\n",
    "            overlays=contributions,\n",
    "            predictions=predictions[mask_label],\n",
    "        )\n",
    "        plt.close(fig)\n",
    "\n",
    "        save_figure(fig, f'/Users/lodovicoazzini/Desktop/human_evaluation/{approach}_{idx}_{len(cluster)}')\n",
    "\n",
    "        sys.stdout.write('\\r')\n",
    "        progress = int((idx + 1) / len(all_samples) * 100)\n",
    "        progress_bar_len = 20\n",
    "        progress_bar_filled = int(progress / 100 * progress_bar_len)\n",
    "        sys.stdout.write(\n",
    "            f'[{progress_bar_filled * \"=\"}{(progress_bar_len - progress_bar_filled) * \" \"}]\\t{progress}%')\n",
    "        sys.stdout.flush()\n",
    "    print()"
   ],
   "metadata": {
    "collapsed": false,
    "pycharm": {
     "name": "#%%\n"
    }
   }
  },
  {
   "cell_type": "code",
   "execution_count": 40,
   "outputs": [],
   "source": [
    "\n",
    "\n",
    "base_dir = '/Users/lodovicoazzini/Desktop/human_evaluation'\n",
    "# Create the csv file with the paths for the images to use\n",
    "images_paths = sorted(image_path for image_path in os.listdir(base_dir) if image_path.endswith('.png'))\n",
    "with open('/Users/lodovicoazzini/Desktop/understandability.csv', mode='w') as file:\n",
    "    for path in images_paths:\n",
    "        file.write(f'human_evaluation/{path}')\n",
    "        file.write('\\n')\n",
    "    # writer.writerow(images_paths)"
   ],
   "metadata": {
    "collapsed": false,
    "pycharm": {
     "name": "#%%\n"
    }
   }
  },
  {
   "cell_type": "code",
   "execution_count": null,
   "outputs": [],
   "source": [],
   "metadata": {
    "collapsed": false,
    "pycharm": {
     "name": "#%%\n"
    }
   }
  }
 ],
 "metadata": {
  "kernelspec": {
   "display_name": "Python 3",
   "language": "python",
   "name": "python3"
  },
  "language_info": {
   "codemirror_mode": {
    "name": "ipython",
    "version": 2
   },
   "file_extension": ".py",
   "mimetype": "text/x-python",
   "name": "python",
   "nbconvert_exporter": "python",
   "pygments_lexer": "ipython2",
   "version": "2.7.6"
  }
 },
 "nbformat": 4,
 "nbformat_minor": 0
}