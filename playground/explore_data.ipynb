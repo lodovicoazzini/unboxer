{
 "cells": [
  {
   "cell_type": "code",
   "execution_count": 124,
   "outputs": [
    {
     "data": {
      "text/plain": "                               approach  \\\n0     moves+orientation(10x10)_original   \n1         moves+bitmaps(10x10)_original   \n2   orientation+bitmaps(10x10)_original   \n3     moves+orientation(20x20)_original   \n4         moves+bitmaps(20x20)_original   \n5   orientation+bitmaps(20x20)_original   \n6       moves+orientation(10x10)_merged   \n7           moves+bitmaps(10x10)_merged   \n8     orientation+bitmaps(10x10)_merged   \n9       moves+orientation(20x20)_merged   \n10          moves+bitmaps(20x20)_merged   \n11    orientation+bitmaps(20x20)_merged   \n\n                                             clusters       time  num_clusters  \n0   [[28, 119, 263, 277, 339, 453], [20, 38, 72, 8...  26.846361            44  \n1   [[670], [48, 163, 252, 254, 274, 279, 401, 426...  26.817801            47  \n2   [[28, 339, 453], [119, 263, 277], [248], [252,...   26.84524            55  \n3   [[339], [28, 263, 277, 453], [119, 125, 210, 2...  27.827787            76  \n4   [[670], [48, 279, 520], [252, 254, 274, 426, 4...  27.795271            76  \n5   [[339], [28, 453], [263], [277], [125], [119, ...  27.971384           169  \n6   [[28, 119, 263, 277, 339, 453, 20, 38, 72, 83,...  26.846361             3  \n7   [[670, 48, 163, 252, 254, 274, 279, 401, 426, ...  26.817801             4  \n8   [[28, 339, 453, 119, 263, 277, 248, 252, 520, ...   26.84524             1  \n9   [[339, 28, 263, 277, 453, 119, 125, 210, 289, ...  27.827787            26  \n10  [[670, 48, 279, 520, 252, 254, 274, 426, 435, ...  27.795271            29  \n11  [[339, 28, 453, 263, 277, 125, 119, 444, 370, ...  27.971384             5  ",
      "text/html": "<div>\n<style scoped>\n    .dataframe tbody tr th:only-of-type {\n        vertical-align: middle;\n    }\n\n    .dataframe tbody tr th {\n        vertical-align: top;\n    }\n\n    .dataframe thead th {\n        text-align: right;\n    }\n</style>\n<table border=\"1\" class=\"dataframe\">\n  <thead>\n    <tr style=\"text-align: right;\">\n      <th></th>\n      <th>approach</th>\n      <th>clusters</th>\n      <th>time</th>\n      <th>num_clusters</th>\n    </tr>\n  </thead>\n  <tbody>\n    <tr>\n      <th>0</th>\n      <td>moves+orientation(10x10)_original</td>\n      <td>[[28, 119, 263, 277, 339, 453], [20, 38, 72, 8...</td>\n      <td>26.846361</td>\n      <td>44</td>\n    </tr>\n    <tr>\n      <th>1</th>\n      <td>moves+bitmaps(10x10)_original</td>\n      <td>[[670], [48, 163, 252, 254, 274, 279, 401, 426...</td>\n      <td>26.817801</td>\n      <td>47</td>\n    </tr>\n    <tr>\n      <th>2</th>\n      <td>orientation+bitmaps(10x10)_original</td>\n      <td>[[28, 339, 453], [119, 263, 277], [248], [252,...</td>\n      <td>26.84524</td>\n      <td>55</td>\n    </tr>\n    <tr>\n      <th>3</th>\n      <td>moves+orientation(20x20)_original</td>\n      <td>[[339], [28, 263, 277, 453], [119, 125, 210, 2...</td>\n      <td>27.827787</td>\n      <td>76</td>\n    </tr>\n    <tr>\n      <th>4</th>\n      <td>moves+bitmaps(20x20)_original</td>\n      <td>[[670], [48, 279, 520], [252, 254, 274, 426, 4...</td>\n      <td>27.795271</td>\n      <td>76</td>\n    </tr>\n    <tr>\n      <th>5</th>\n      <td>orientation+bitmaps(20x20)_original</td>\n      <td>[[339], [28, 453], [263], [277], [125], [119, ...</td>\n      <td>27.971384</td>\n      <td>169</td>\n    </tr>\n    <tr>\n      <th>6</th>\n      <td>moves+orientation(10x10)_merged</td>\n      <td>[[28, 119, 263, 277, 339, 453, 20, 38, 72, 83,...</td>\n      <td>26.846361</td>\n      <td>3</td>\n    </tr>\n    <tr>\n      <th>7</th>\n      <td>moves+bitmaps(10x10)_merged</td>\n      <td>[[670, 48, 163, 252, 254, 274, 279, 401, 426, ...</td>\n      <td>26.817801</td>\n      <td>4</td>\n    </tr>\n    <tr>\n      <th>8</th>\n      <td>orientation+bitmaps(10x10)_merged</td>\n      <td>[[28, 339, 453, 119, 263, 277, 248, 252, 520, ...</td>\n      <td>26.84524</td>\n      <td>1</td>\n    </tr>\n    <tr>\n      <th>9</th>\n      <td>moves+orientation(20x20)_merged</td>\n      <td>[[339, 28, 263, 277, 453, 119, 125, 210, 289, ...</td>\n      <td>27.827787</td>\n      <td>26</td>\n    </tr>\n    <tr>\n      <th>10</th>\n      <td>moves+bitmaps(20x20)_merged</td>\n      <td>[[670, 48, 279, 520, 252, 254, 274, 426, 435, ...</td>\n      <td>27.795271</td>\n      <td>29</td>\n    </tr>\n    <tr>\n      <th>11</th>\n      <td>orientation+bitmaps(20x20)_merged</td>\n      <td>[[339, 28, 453, 263, 277, 125, 119, 444, 370, ...</td>\n      <td>27.971384</td>\n      <td>5</td>\n    </tr>\n  </tbody>\n</table>\n</div>"
     },
     "execution_count": 124,
     "metadata": {},
     "output_type": "execute_result"
    }
   ],
   "source": [
    "import pandas as pd\n",
    "\n",
    "# Read the featuremaps clusters data\n",
    "featuremaps_df = pd.read_pickle('../logs/feature_combinations_clusters').reset_index()\n",
    "# Compute the total time\n",
    "featuremaps_df['time'] = featuremaps_df['map_time'] + featuremaps_df['features_extraction']\n",
    "featuremaps_df = featuremaps_df.drop(columns=['map_time', 'features_extraction'])\n",
    "\n",
    "# Get the original clusters\n",
    "featuremaps_original_clusters_df = pd.DataFrame(data = featuremaps_df[['approach', 'clusters_list', 'time']].values, columns=['approach', 'clusters', 'time'])\n",
    "featuremaps_original_clusters_df['approach'] = featuremaps_original_clusters_df['approach'].apply(lambda approach: approach + '_original')\n",
    "# Get the merged clusters\n",
    "featuremaps_merged_clusters_df = pd.DataFrame(data = featuremaps_df[['approach', 'merged_clusters_list', 'time']].values, columns=['approach', 'clusters', 'time'])\n",
    "featuremaps_merged_clusters_df['approach'] = featuremaps_merged_clusters_df['approach'].apply(lambda approach: approach + '_merged')\n",
    "# Add the clusters\n",
    "featuremaps_all_clusters_df = pd.concat([featuremaps_original_clusters_df, featuremaps_merged_clusters_df]).reset_index(drop=True)\n",
    "# Get the number of clusters\n",
    "featuremaps_all_clusters_df['num_clusters'] = featuremaps_all_clusters_df['clusters'].apply(len)\n",
    "\n",
    "featuremaps_all_clusters_df"
   ],
   "metadata": {
    "collapsed": false,
    "pycharm": {
     "name": "#%%\n"
    }
   }
  },
  {
   "cell_type": "code",
   "execution_count": 125,
   "outputs": [
    {
     "name": "stderr",
     "output_type": "stream",
     "text": [
      "/var/folders/b2/ybzqqdk538s60ppvpsh_9q2m0000gn/T/ipykernel_52695/3220510469.py:10: SettingWithCopyWarning: \n",
      "A value is trying to be set on a copy of a slice from a DataFrame.\n",
      "Try using .loc[row_indexer,col_indexer] = value instead\n",
      "\n",
      "See the caveats in the documentation: https://pandas.pydata.org/pandas-docs/stable/user_guide/indexing.html#returning-a-view-versus-a-copy\n",
      "  heatmaps_clusters_df['clustering_mode'] = heatmaps_clusters_df.apply(lambda row: f'{row[\"clustering_technique\"]}({row[\"clustering_mode\"]})', axis=1)\n"
     ]
    },
    {
     "data": {
      "text/plain": "                        clustering_mode approach  \\\n0  AffinityPropagation(LocalLatentMode)  GradCAM   \n1  AffinityPropagation(LocalLatentMode)  GradCAM   \n2  AffinityPropagation(LocalLatentMode)  GradCAM   \n3  AffinityPropagation(LocalLatentMode)  GradCAM   \n4  AffinityPropagation(LocalLatentMode)  GradCAM   \n\n                                            clusters  num_clusters     time  \n0  [[0, 385, 258, 3, 389, 146, 25, 282, 409, 161,...            25  3.87692  \n1  [[0, 385, 258, 3, 389, 146, 25, 282, 409, 161,...            25  3.21302  \n2  [[0, 385, 130, 519, 523, 19, 24, 156, 286, 164...            27  3.61985  \n3  [[0, 385, 258, 389, 146, 282, 161, 420, 179, 3...            26  3.88618  \n4  [[0, 385, 258, 389, 136, 146, 409, 282, 31, 16...            28  3.34055  ",
      "text/html": "<div>\n<style scoped>\n    .dataframe tbody tr th:only-of-type {\n        vertical-align: middle;\n    }\n\n    .dataframe tbody tr th {\n        vertical-align: top;\n    }\n\n    .dataframe thead th {\n        text-align: right;\n    }\n</style>\n<table border=\"1\" class=\"dataframe\">\n  <thead>\n    <tr style=\"text-align: right;\">\n      <th></th>\n      <th>clustering_mode</th>\n      <th>approach</th>\n      <th>clusters</th>\n      <th>num_clusters</th>\n      <th>time</th>\n    </tr>\n  </thead>\n  <tbody>\n    <tr>\n      <th>0</th>\n      <td>AffinityPropagation(LocalLatentMode)</td>\n      <td>GradCAM</td>\n      <td>[[0, 385, 258, 3, 389, 146, 25, 282, 409, 161,...</td>\n      <td>25</td>\n      <td>3.87692</td>\n    </tr>\n    <tr>\n      <th>1</th>\n      <td>AffinityPropagation(LocalLatentMode)</td>\n      <td>GradCAM</td>\n      <td>[[0, 385, 258, 3, 389, 146, 25, 282, 409, 161,...</td>\n      <td>25</td>\n      <td>3.21302</td>\n    </tr>\n    <tr>\n      <th>2</th>\n      <td>AffinityPropagation(LocalLatentMode)</td>\n      <td>GradCAM</td>\n      <td>[[0, 385, 130, 519, 523, 19, 24, 156, 286, 164...</td>\n      <td>27</td>\n      <td>3.61985</td>\n    </tr>\n    <tr>\n      <th>3</th>\n      <td>AffinityPropagation(LocalLatentMode)</td>\n      <td>GradCAM</td>\n      <td>[[0, 385, 258, 389, 146, 282, 161, 420, 179, 3...</td>\n      <td>26</td>\n      <td>3.88618</td>\n    </tr>\n    <tr>\n      <th>4</th>\n      <td>AffinityPropagation(LocalLatentMode)</td>\n      <td>GradCAM</td>\n      <td>[[0, 385, 258, 389, 136, 146, 409, 282, 31, 16...</td>\n      <td>28</td>\n      <td>3.34055</td>\n    </tr>\n  </tbody>\n</table>\n</div>"
     },
     "execution_count": 125,
     "metadata": {},
     "output_type": "execute_result"
    }
   ],
   "source": [
    "import pandas as pd\n",
    "import ast\n",
    "\n",
    "# Read the heatmaps data\n",
    "heatmaps_df = pd.read_csv('../logs/heatmaps_data.csv')\n",
    "heatmaps_df['clusters'] = heatmaps_df['clusters'].apply(ast.literal_eval)\n",
    "\n",
    "# Extract the clusters df\n",
    "heatmaps_clusters_df = heatmaps_df[['clustering_mode', 'explainer', 'clustering_technique', 'clusters', 'num_clusters', 'time_clustering', 'time_contributions']]\n",
    "heatmaps_clusters_df['clustering_mode'] = heatmaps_clusters_df.apply(lambda row: f'{row[\"clustering_technique\"]}({row[\"clustering_mode\"]})', axis=1)\n",
    "heatmaps_clusters_df = heatmaps_clusters_df.drop(columns=['clustering_technique'])\n",
    "heatmaps_clusters_df = heatmaps_clusters_df.rename(columns={'explainer': 'approach'})\n",
    "heatmaps_clusters_df['time'] = heatmaps_clusters_df['time_clustering'] + heatmaps_clusters_df['time_contributions']\n",
    "heatmaps_clusters_df = heatmaps_clusters_df.drop(columns=['time_clustering', 'time_contributions'])\n",
    "\n",
    "heatmaps_clusters_df.head()"
   ],
   "metadata": {
    "collapsed": false,
    "pycharm": {
     "name": "#%%\n"
    }
   }
  },
  {
   "cell_type": "code",
   "execution_count": 126,
   "outputs": [
    {
     "data": {
      "text/plain": "                               approach  \\\n0     moves+orientation(10x10)_original   \n1         moves+bitmaps(10x10)_original   \n2   orientation+bitmaps(10x10)_original   \n3     moves+orientation(20x20)_original   \n4         moves+bitmaps(20x20)_original   \n5   orientation+bitmaps(20x20)_original   \n6       moves+orientation(10x10)_merged   \n7           moves+bitmaps(10x10)_merged   \n8     orientation+bitmaps(10x10)_merged   \n9       moves+orientation(20x20)_merged   \n10          moves+bitmaps(20x20)_merged   \n11    orientation+bitmaps(20x20)_merged   \n12                              GradCAM   \n13                              GradCAM   \n14                              GradCAM   \n15                              GradCAM   \n16                              GradCAM   \n17                  IntegratedGradients   \n18                  IntegratedGradients   \n19                  IntegratedGradients   \n20                  IntegratedGradients   \n21                  IntegratedGradients   \n\n                                             clusters       time  \\\n0   [[28, 119, 263, 277, 339, 453], [20, 38, 72, 8...  26.846361   \n1   [[670], [48, 163, 252, 254, 274, 279, 401, 426...  26.817801   \n2   [[28, 339, 453], [119, 263, 277], [248], [252,...   26.84524   \n3   [[339], [28, 263, 277, 453], [119, 125, 210, 2...  27.827787   \n4   [[670], [48, 279, 520], [252, 254, 274, 426, 4...  27.795271   \n5   [[339], [28, 453], [263], [277], [125], [119, ...  27.971384   \n6   [[28, 119, 263, 277, 339, 453, 20, 38, 72, 83,...  26.846361   \n7   [[670, 48, 163, 252, 254, 274, 279, 401, 426, ...  26.817801   \n8   [[28, 339, 453, 119, 263, 277, 248, 252, 520, ...   26.84524   \n9   [[339, 28, 263, 277, 453, 119, 125, 210, 289, ...  27.827787   \n10  [[670, 48, 279, 520, 252, 254, 274, 426, 435, ...  27.795271   \n11  [[339, 28, 453, 263, 277, 125, 119, 444, 370, ...  27.971384   \n12  [[0, 385, 258, 3, 389, 146, 25, 282, 409, 161,...    3.87692   \n13  [[0, 385, 258, 3, 389, 146, 25, 282, 409, 161,...    3.21302   \n14  [[0, 385, 130, 519, 523, 19, 24, 156, 286, 164...    3.61985   \n15  [[0, 385, 258, 389, 146, 282, 161, 420, 179, 3...    3.88618   \n16  [[0, 385, 258, 389, 136, 146, 409, 282, 31, 16...    3.34055   \n17  [[0, 640, 2, 259, 4, 642, 643, 392, 140, 143, ...   51.00501   \n18  [[0, 6, 274, 788, 23, 152, 27, 673, 802, 419, ...   51.42054   \n19  [[0, 640, 2, 642, 643, 392, 144, 784, 787, 699...   51.23448   \n20  [[0, 6, 7, 274, 788, 23, 152, 27, 673, 802, 41...   50.53755   \n21  [[0, 640, 2, 642, 643, 391, 392, 144, 784, 787...    50.9611   \n\n    num_clusters                       clustering_mode  \\\n0             44                                   NaN   \n1             47                                   NaN   \n2             55                                   NaN   \n3             76                                   NaN   \n4             76                                   NaN   \n5            169                                   NaN   \n6              3                                   NaN   \n7              4                                   NaN   \n8              1                                   NaN   \n9             26                                   NaN   \n10            29                                   NaN   \n11             5                                   NaN   \n12            25  AffinityPropagation(LocalLatentMode)   \n13            25  AffinityPropagation(LocalLatentMode)   \n14            27  AffinityPropagation(LocalLatentMode)   \n15            26  AffinityPropagation(LocalLatentMode)   \n16            28  AffinityPropagation(LocalLatentMode)   \n17            25  AffinityPropagation(LocalLatentMode)   \n18            21  AffinityPropagation(LocalLatentMode)   \n19            25  AffinityPropagation(LocalLatentMode)   \n20            22  AffinityPropagation(LocalLatentMode)   \n21            26  AffinityPropagation(LocalLatentMode)   \n\n                                       clusters_sizes  \\\n0   [6, 41, 76, 115, 118, 220, 176, 42, 7, 1, 1, 2...   \n1   [1, 15, 90, 222, 208, 148, 90, 21, 6, 1, 1, 1,...   \n2   [3, 3, 1, 2, 3, 16, 16, 3, 2, 5, 26, 15, 24, 9...   \n3   [1, 4, 8, 23, 31, 43, 48, 52, 58, 56, 72, 108,...   \n4   [1, 3, 10, 19, 63, 77, 98, 107, 116, 82, 66, 6...   \n5   [1, 2, 1, 1, 1, 2, 2, 3, 1, 1, 1, 1, 1, 4, 4, ...   \n6                                         [890, 1, 1]   \n7                                      [889, 1, 1, 1]   \n8                                               [892]   \n9   [801, 1, 1, 4, 1, 1, 1, 1, 3, 1, 5, 1, 3, 1, 5...   \n10  [802, 4, 1, 1, 2, 1, 1, 1, 1, 1, 1, 1, 3, 2, 1...   \n11                                  [887, 1, 1, 2, 1]   \n12  [32, 42, 32, 42, 26, 26, 39, 41, 37, 46, 42, 5...   \n13  [32, 34, 45, 29, 33, 40, 37, 47, 28, 37, 34, 3...   \n14  [30, 37, 33, 31, 31, 28, 34, 30, 36, 29, 52, 5...   \n15  [30, 50, 39, 37, 23, 18, 36, 37, 37, 46, 56, 2...   \n16  [36, 42, 30, 34, 34, 18, 35, 30, 35, 44, 23, 3...   \n17  [37, 27, 25, 47, 42, 34, 43, 33, 24, 45, 33, 3...   \n18  [32, 44, 35, 48, 51, 34, 55, 46, 48, 44, 32, 4...   \n19  [29, 30, 29, 40, 41, 52, 29, 33, 48, 33, 28, 3...   \n20  [48, 42, 49, 48, 56, 43, 47, 27, 32, 44, 33, 2...   \n21  [32, 27, 34, 42, 36, 35, 36, 34, 36, 37, 32, 3...   \n\n                                          frac_misses  frac_mixed  \n0   [0.16666666666666666, 0.4146341463414634, 0.31...    0.431818  \n1   [1.0, 0.4666666666666667, 0.3111111111111111, ...    0.319149  \n2   [0.3333333333333333, 0.0, 0.0, 1.0, 0.66666666...    0.709091  \n3   [1.0, 0.0, 0.625, 0.391304347826087, 0.4193548...    0.250000  \n4   [1.0, 1.0, 0.3, 0.5789473684210527, 0.25396825...    0.263158  \n5   [1.0, 0.0, 0.0, 0.0, 1.0, 0.5, 0.5, 0.66666666...    0.538462  \n6                     [0.18764044943820224, 0.0, 0.0]    0.333333  \n7                [0.18672665916760406, 1.0, 0.0, 0.0]    0.250000  \n8                               [0.18721973094170405]    1.000000  \n9   [0.18976279650436953, 1.0, 0.0, 0.5, 0.0, 1.0,...    0.192308  \n10  [0.19077306733167082, 0.75, 0.0, 0.0, 0.0, 0.0...    0.206897  \n11           [0.1871476888387824, 0.0, 0.0, 0.0, 1.0]    0.200000  \n12  [0.03125, 0.047619047619047616, 0.09375, 0.071...    0.920000  \n13  [0.03125, 0.029411764705882353, 0.222222222222...    0.880000  \n14  [0.0, 0.08108108108108109, 0.06060606060606061...    0.740741  \n15  [0.06666666666666667, 0.04, 0.1282051282051282...    0.884615  \n16  [0.05555555555555555, 0.047619047619047616, 0....    0.785714  \n17  [0.0, 0.0, 0.0, 0.0, 0.0, 0.0, 0.0, 0.0, 0.0, ...    0.040000  \n18  [0.0, 0.0, 0.0, 0.0, 0.0, 0.0, 0.0, 0.0, 0.0, ...    0.047619  \n19  [0.0, 0.0, 0.0, 0.0, 0.0, 0.0, 0.0, 0.0, 0.0, ...    0.040000  \n20  [0.0, 0.0, 0.0, 0.0, 0.0, 0.0, 0.0, 0.0, 0.0, ...    0.045455  \n21  [0.0, 0.0, 0.0, 0.0, 0.0, 0.0, 0.0, 0.0, 0.0, ...    0.038462  ",
      "text/html": "<div>\n<style scoped>\n    .dataframe tbody tr th:only-of-type {\n        vertical-align: middle;\n    }\n\n    .dataframe tbody tr th {\n        vertical-align: top;\n    }\n\n    .dataframe thead th {\n        text-align: right;\n    }\n</style>\n<table border=\"1\" class=\"dataframe\">\n  <thead>\n    <tr style=\"text-align: right;\">\n      <th></th>\n      <th>approach</th>\n      <th>clusters</th>\n      <th>time</th>\n      <th>num_clusters</th>\n      <th>clustering_mode</th>\n      <th>clusters_sizes</th>\n      <th>frac_misses</th>\n      <th>frac_mixed</th>\n    </tr>\n  </thead>\n  <tbody>\n    <tr>\n      <th>0</th>\n      <td>moves+orientation(10x10)_original</td>\n      <td>[[28, 119, 263, 277, 339, 453], [20, 38, 72, 8...</td>\n      <td>26.846361</td>\n      <td>44</td>\n      <td>NaN</td>\n      <td>[6, 41, 76, 115, 118, 220, 176, 42, 7, 1, 1, 2...</td>\n      <td>[0.16666666666666666, 0.4146341463414634, 0.31...</td>\n      <td>0.431818</td>\n    </tr>\n    <tr>\n      <th>1</th>\n      <td>moves+bitmaps(10x10)_original</td>\n      <td>[[670], [48, 163, 252, 254, 274, 279, 401, 426...</td>\n      <td>26.817801</td>\n      <td>47</td>\n      <td>NaN</td>\n      <td>[1, 15, 90, 222, 208, 148, 90, 21, 6, 1, 1, 1,...</td>\n      <td>[1.0, 0.4666666666666667, 0.3111111111111111, ...</td>\n      <td>0.319149</td>\n    </tr>\n    <tr>\n      <th>2</th>\n      <td>orientation+bitmaps(10x10)_original</td>\n      <td>[[28, 339, 453], [119, 263, 277], [248], [252,...</td>\n      <td>26.84524</td>\n      <td>55</td>\n      <td>NaN</td>\n      <td>[3, 3, 1, 2, 3, 16, 16, 3, 2, 5, 26, 15, 24, 9...</td>\n      <td>[0.3333333333333333, 0.0, 0.0, 1.0, 0.66666666...</td>\n      <td>0.709091</td>\n    </tr>\n    <tr>\n      <th>3</th>\n      <td>moves+orientation(20x20)_original</td>\n      <td>[[339], [28, 263, 277, 453], [119, 125, 210, 2...</td>\n      <td>27.827787</td>\n      <td>76</td>\n      <td>NaN</td>\n      <td>[1, 4, 8, 23, 31, 43, 48, 52, 58, 56, 72, 108,...</td>\n      <td>[1.0, 0.0, 0.625, 0.391304347826087, 0.4193548...</td>\n      <td>0.250000</td>\n    </tr>\n    <tr>\n      <th>4</th>\n      <td>moves+bitmaps(20x20)_original</td>\n      <td>[[670], [48, 279, 520], [252, 254, 274, 426, 4...</td>\n      <td>27.795271</td>\n      <td>76</td>\n      <td>NaN</td>\n      <td>[1, 3, 10, 19, 63, 77, 98, 107, 116, 82, 66, 6...</td>\n      <td>[1.0, 1.0, 0.3, 0.5789473684210527, 0.25396825...</td>\n      <td>0.263158</td>\n    </tr>\n    <tr>\n      <th>5</th>\n      <td>orientation+bitmaps(20x20)_original</td>\n      <td>[[339], [28, 453], [263], [277], [125], [119, ...</td>\n      <td>27.971384</td>\n      <td>169</td>\n      <td>NaN</td>\n      <td>[1, 2, 1, 1, 1, 2, 2, 3, 1, 1, 1, 1, 1, 4, 4, ...</td>\n      <td>[1.0, 0.0, 0.0, 0.0, 1.0, 0.5, 0.5, 0.66666666...</td>\n      <td>0.538462</td>\n    </tr>\n    <tr>\n      <th>6</th>\n      <td>moves+orientation(10x10)_merged</td>\n      <td>[[28, 119, 263, 277, 339, 453, 20, 38, 72, 83,...</td>\n      <td>26.846361</td>\n      <td>3</td>\n      <td>NaN</td>\n      <td>[890, 1, 1]</td>\n      <td>[0.18764044943820224, 0.0, 0.0]</td>\n      <td>0.333333</td>\n    </tr>\n    <tr>\n      <th>7</th>\n      <td>moves+bitmaps(10x10)_merged</td>\n      <td>[[670, 48, 163, 252, 254, 274, 279, 401, 426, ...</td>\n      <td>26.817801</td>\n      <td>4</td>\n      <td>NaN</td>\n      <td>[889, 1, 1, 1]</td>\n      <td>[0.18672665916760406, 1.0, 0.0, 0.0]</td>\n      <td>0.250000</td>\n    </tr>\n    <tr>\n      <th>8</th>\n      <td>orientation+bitmaps(10x10)_merged</td>\n      <td>[[28, 339, 453, 119, 263, 277, 248, 252, 520, ...</td>\n      <td>26.84524</td>\n      <td>1</td>\n      <td>NaN</td>\n      <td>[892]</td>\n      <td>[0.18721973094170405]</td>\n      <td>1.000000</td>\n    </tr>\n    <tr>\n      <th>9</th>\n      <td>moves+orientation(20x20)_merged</td>\n      <td>[[339, 28, 263, 277, 453, 119, 125, 210, 289, ...</td>\n      <td>27.827787</td>\n      <td>26</td>\n      <td>NaN</td>\n      <td>[801, 1, 1, 4, 1, 1, 1, 1, 3, 1, 5, 1, 3, 1, 5...</td>\n      <td>[0.18976279650436953, 1.0, 0.0, 0.5, 0.0, 1.0,...</td>\n      <td>0.192308</td>\n    </tr>\n    <tr>\n      <th>10</th>\n      <td>moves+bitmaps(20x20)_merged</td>\n      <td>[[670, 48, 279, 520, 252, 254, 274, 426, 435, ...</td>\n      <td>27.795271</td>\n      <td>29</td>\n      <td>NaN</td>\n      <td>[802, 4, 1, 1, 2, 1, 1, 1, 1, 1, 1, 1, 3, 2, 1...</td>\n      <td>[0.19077306733167082, 0.75, 0.0, 0.0, 0.0, 0.0...</td>\n      <td>0.206897</td>\n    </tr>\n    <tr>\n      <th>11</th>\n      <td>orientation+bitmaps(20x20)_merged</td>\n      <td>[[339, 28, 453, 263, 277, 125, 119, 444, 370, ...</td>\n      <td>27.971384</td>\n      <td>5</td>\n      <td>NaN</td>\n      <td>[887, 1, 1, 2, 1]</td>\n      <td>[0.1871476888387824, 0.0, 0.0, 0.0, 1.0]</td>\n      <td>0.200000</td>\n    </tr>\n    <tr>\n      <th>12</th>\n      <td>GradCAM</td>\n      <td>[[0, 385, 258, 3, 389, 146, 25, 282, 409, 161,...</td>\n      <td>3.87692</td>\n      <td>25</td>\n      <td>AffinityPropagation(LocalLatentMode)</td>\n      <td>[32, 42, 32, 42, 26, 26, 39, 41, 37, 46, 42, 5...</td>\n      <td>[0.03125, 0.047619047619047616, 0.09375, 0.071...</td>\n      <td>0.920000</td>\n    </tr>\n    <tr>\n      <th>13</th>\n      <td>GradCAM</td>\n      <td>[[0, 385, 258, 3, 389, 146, 25, 282, 409, 161,...</td>\n      <td>3.21302</td>\n      <td>25</td>\n      <td>AffinityPropagation(LocalLatentMode)</td>\n      <td>[32, 34, 45, 29, 33, 40, 37, 47, 28, 37, 34, 3...</td>\n      <td>[0.03125, 0.029411764705882353, 0.222222222222...</td>\n      <td>0.880000</td>\n    </tr>\n    <tr>\n      <th>14</th>\n      <td>GradCAM</td>\n      <td>[[0, 385, 130, 519, 523, 19, 24, 156, 286, 164...</td>\n      <td>3.61985</td>\n      <td>27</td>\n      <td>AffinityPropagation(LocalLatentMode)</td>\n      <td>[30, 37, 33, 31, 31, 28, 34, 30, 36, 29, 52, 5...</td>\n      <td>[0.0, 0.08108108108108109, 0.06060606060606061...</td>\n      <td>0.740741</td>\n    </tr>\n    <tr>\n      <th>15</th>\n      <td>GradCAM</td>\n      <td>[[0, 385, 258, 389, 146, 282, 161, 420, 179, 3...</td>\n      <td>3.88618</td>\n      <td>26</td>\n      <td>AffinityPropagation(LocalLatentMode)</td>\n      <td>[30, 50, 39, 37, 23, 18, 36, 37, 37, 46, 56, 2...</td>\n      <td>[0.06666666666666667, 0.04, 0.1282051282051282...</td>\n      <td>0.884615</td>\n    </tr>\n    <tr>\n      <th>16</th>\n      <td>GradCAM</td>\n      <td>[[0, 385, 258, 389, 136, 146, 409, 282, 31, 16...</td>\n      <td>3.34055</td>\n      <td>28</td>\n      <td>AffinityPropagation(LocalLatentMode)</td>\n      <td>[36, 42, 30, 34, 34, 18, 35, 30, 35, 44, 23, 3...</td>\n      <td>[0.05555555555555555, 0.047619047619047616, 0....</td>\n      <td>0.785714</td>\n    </tr>\n    <tr>\n      <th>17</th>\n      <td>IntegratedGradients</td>\n      <td>[[0, 640, 2, 259, 4, 642, 643, 392, 140, 143, ...</td>\n      <td>51.00501</td>\n      <td>25</td>\n      <td>AffinityPropagation(LocalLatentMode)</td>\n      <td>[37, 27, 25, 47, 42, 34, 43, 33, 24, 45, 33, 3...</td>\n      <td>[0.0, 0.0, 0.0, 0.0, 0.0, 0.0, 0.0, 0.0, 0.0, ...</td>\n      <td>0.040000</td>\n    </tr>\n    <tr>\n      <th>18</th>\n      <td>IntegratedGradients</td>\n      <td>[[0, 6, 274, 788, 23, 152, 27, 673, 802, 419, ...</td>\n      <td>51.42054</td>\n      <td>21</td>\n      <td>AffinityPropagation(LocalLatentMode)</td>\n      <td>[32, 44, 35, 48, 51, 34, 55, 46, 48, 44, 32, 4...</td>\n      <td>[0.0, 0.0, 0.0, 0.0, 0.0, 0.0, 0.0, 0.0, 0.0, ...</td>\n      <td>0.047619</td>\n    </tr>\n    <tr>\n      <th>19</th>\n      <td>IntegratedGradients</td>\n      <td>[[0, 640, 2, 642, 643, 392, 144, 784, 787, 699...</td>\n      <td>51.23448</td>\n      <td>25</td>\n      <td>AffinityPropagation(LocalLatentMode)</td>\n      <td>[29, 30, 29, 40, 41, 52, 29, 33, 48, 33, 28, 3...</td>\n      <td>[0.0, 0.0, 0.0, 0.0, 0.0, 0.0, 0.0, 0.0, 0.0, ...</td>\n      <td>0.040000</td>\n    </tr>\n    <tr>\n      <th>20</th>\n      <td>IntegratedGradients</td>\n      <td>[[0, 6, 7, 274, 788, 23, 152, 27, 673, 802, 41...</td>\n      <td>50.53755</td>\n      <td>22</td>\n      <td>AffinityPropagation(LocalLatentMode)</td>\n      <td>[48, 42, 49, 48, 56, 43, 47, 27, 32, 44, 33, 2...</td>\n      <td>[0.0, 0.0, 0.0, 0.0, 0.0, 0.0, 0.0, 0.0, 0.0, ...</td>\n      <td>0.045455</td>\n    </tr>\n    <tr>\n      <th>21</th>\n      <td>IntegratedGradients</td>\n      <td>[[0, 640, 2, 642, 643, 391, 392, 144, 784, 787...</td>\n      <td>50.9611</td>\n      <td>26</td>\n      <td>AffinityPropagation(LocalLatentMode)</td>\n      <td>[32, 27, 34, 42, 36, 35, 36, 34, 36, 37, 32, 3...</td>\n      <td>[0.0, 0.0, 0.0, 0.0, 0.0, 0.0, 0.0, 0.0, 0.0, ...</td>\n      <td>0.038462</td>\n    </tr>\n  </tbody>\n</table>\n</div>"
     },
     "execution_count": 126,
     "metadata": {},
     "output_type": "execute_result"
    }
   ],
   "source": [
    "from utils.dataset import get_train_test_data, get_data_masks\n",
    "import pandas as pd\n",
    "import numpy as np\n",
    "\n",
    "# Merge all the clusters together\n",
    "complete_df = pd.concat([featuremaps_all_clusters_df, heatmaps_clusters_df]).reset_index(drop=True)\n",
    "\n",
    "# Extract data about the clusters sizes\n",
    "complete_df['clusters_sizes'] = complete_df['clusters'].apply(lambda clusters: [len(cluster) for cluster in clusters])\n",
    "\n",
    "# Get the indexes of the misclassified elements\n",
    "(train_data, train_labels), (test_data, test_labels) = get_train_test_data(rgb=True)\n",
    "predictions = np.loadtxt('../in/predictions.csv')\n",
    "mask_miss, mask_label = get_data_masks(test_labels, predictions, label=5)\n",
    "mask_miss_label = mask_miss[mask_label]\n",
    "misclassified_idxs = np.argwhere(mask_miss_label == True)\n",
    "# Find the fraction of misclassified data in each cluster\n",
    "complete_df['frac_misses'] = complete_df['clusters'].apply(\n",
    "    lambda clusters: [\n",
    "        len([entry for entry in cluster if entry in misclassified_idxs]) / len(cluster)\n",
    "        for cluster in clusters\n",
    "    ]\n",
    ")\n",
    "# Find the fraction of clusters containing both correct and incorrect classifications\n",
    "complete_df['frac_mixed'] = complete_df['frac_misses'].apply(lambda misses: len([entry for entry in misses if 0 < entry < 1]) / len(misses))\n",
    "\n",
    "complete_df"
   ],
   "metadata": {
    "collapsed": false,
    "pycharm": {
     "name": "#%%\n"
    }
   }
  },
  {
   "cell_type": "code",
   "execution_count": null,
   "outputs": [],
   "source": [],
   "metadata": {
    "collapsed": false,
    "pycharm": {
     "name": "#%%\n"
    }
   }
  }
 ],
 "metadata": {
  "kernelspec": {
   "display_name": "Python 3",
   "language": "python",
   "name": "python3"
  },
  "language_info": {
   "codemirror_mode": {
    "name": "ipython",
    "version": 2
   },
   "file_extension": ".py",
   "mimetype": "text/x-python",
   "name": "python",
   "nbconvert_exporter": "python",
   "pygments_lexer": "ipython2",
   "version": "2.7.6"
  }
 },
 "nbformat": 4,
 "nbformat_minor": 0
}