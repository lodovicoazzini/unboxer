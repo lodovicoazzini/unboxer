{
 "cells": [
  {
   "cell_type": "code",
   "execution_count": 2,
   "metadata": {
    "collapsed": true
   },
   "outputs": [],
   "source": [
    "import torch\n",
    "import torchvision\n",
    "import numpy as np"
   ]
  },
  {
   "cell_type": "code",
   "execution_count": 3,
   "outputs": [
    {
     "data": {
      "text/plain": "<torch._C.Generator at 0x107b66c70>"
     },
     "execution_count": 3,
     "metadata": {},
     "output_type": "execute_result"
    }
   ],
   "source": [
    "n_epochs = 3\n",
    "batch_size_train = 64\n",
    "batch_size_test = 1000\n",
    "learning_rate = 0.01\n",
    "momentum = 0.5\n",
    "log_interval = 10\n",
    "\n",
    "random_seed = 1\n",
    "# torch.backends.cudnn.enabled = False\n",
    "torch.manual_seed(random_seed)"
   ],
   "metadata": {
    "collapsed": false,
    "pycharm": {
     "name": "#%%\n"
    }
   }
  },
  {
   "cell_type": "code",
   "execution_count": 6,
   "outputs": [
    {
     "name": "stdout",
     "output_type": "stream",
     "text": [
      "Downloading http://yann.lecun.com/exdb/mnist/train-images-idx3-ubyte.gz\n"
     ]
    },
    {
     "name": "stderr",
     "output_type": "stream",
     "text": [
      "2.9%"
     ]
    },
    {
     "name": "stdout",
     "output_type": "stream",
     "text": [
      "Downloading http://yann.lecun.com/exdb/mnist/train-images-idx3-ubyte.gz to ../data/MNIST/raw/train-images-idx3-ubyte.gz\n"
     ]
    },
    {
     "name": "stderr",
     "output_type": "stream",
     "text": [
      "31.0%IOPub message rate exceeded.\n",
      "The notebook server will temporarily stop sending output\n",
      "to the client in order to avoid crashing it.\n",
      "To change this limit, set the config variable\n",
      "`--NotebookApp.iopub_msg_rate_limit`.\n",
      "\n",
      "Current values:\n",
      "NotebookApp.iopub_msg_rate_limit=1000.0 (msgs/sec)\n",
      "NotebookApp.rate_limit_window=3.0 (secs)\n",
      "\n",
      "86.1%IOPub message rate exceeded.\n",
      "The notebook server will temporarily stop sending output\n",
      "to the client in order to avoid crashing it.\n",
      "To change this limit, set the config variable\n",
      "`--NotebookApp.iopub_msg_rate_limit`.\n",
      "\n",
      "Current values:\n",
      "NotebookApp.iopub_msg_rate_limit=1000.0 (msgs/sec)\n",
      "NotebookApp.rate_limit_window=3.0 (secs)\n",
      "\n",
      "102.8%"
     ]
    },
    {
     "name": "stdout",
     "output_type": "stream",
     "text": [
      "Downloading http://yann.lecun.com/exdb/mnist/train-labels-idx1-ubyte.gz to ../data/MNIST/raw/train-labels-idx1-ubyte.gz\n",
      "Extracting ../data/MNIST/raw/train-labels-idx1-ubyte.gz to ../data/MNIST/raw\n",
      "\n",
      "Downloading http://yann.lecun.com/exdb/mnist/t10k-images-idx3-ubyte.gz\n"
     ]
    },
    {
     "name": "stderr",
     "output_type": "stream",
     "text": [
      "\n",
      "25.5%"
     ]
    },
    {
     "name": "stdout",
     "output_type": "stream",
     "text": [
      "Downloading http://yann.lecun.com/exdb/mnist/t10k-images-idx3-ubyte.gz to ../data/MNIST/raw/t10k-images-idx3-ubyte.gz\n"
     ]
    },
    {
     "name": "stderr",
     "output_type": "stream",
     "text": [
      "100.0%\n"
     ]
    },
    {
     "name": "stdout",
     "output_type": "stream",
     "text": [
      "Extracting ../data/MNIST/raw/t10k-images-idx3-ubyte.gz to ../data/MNIST/raw\n",
      "\n",
      "Downloading http://yann.lecun.com/exdb/mnist/t10k-labels-idx1-ubyte.gz\n",
      "Downloading http://yann.lecun.com/exdb/mnist/t10k-labels-idx1-ubyte.gz to ../data/MNIST/raw/t10k-labels-idx1-ubyte.gz\n"
     ]
    },
    {
     "name": "stderr",
     "output_type": "stream",
     "text": [
      "112.7%"
     ]
    },
    {
     "name": "stdout",
     "output_type": "stream",
     "text": [
      "Extracting ../data/MNIST/raw/t10k-labels-idx1-ubyte.gz to ../data/MNIST/raw\n",
      "\n"
     ]
    },
    {
     "name": "stderr",
     "output_type": "stream",
     "text": [
      "\n"
     ]
    }
   ],
   "source": [
    "train_loader = torch.utils.data.DataLoader(\n",
    "    torchvision.datasets.MNIST(\n",
    "        '../data/', train=True, download=True,\n",
    "        transform=torchvision.transforms.Compose([\n",
    "            torchvision.transforms.ToTensor(),\n",
    "            torchvision.transforms.Normalize((0.1307,), (0.3081,))\n",
    "        ])),\n",
    "    batch_size=batch_size_train, shuffle=True)\n",
    "\n",
    "test_loader = torch.utils.data.DataLoader(\n",
    "    torchvision.datasets.MNIST(\n",
    "        '../data/', train=False, download=True,\n",
    "        transform=torchvision.transforms.Compose([\n",
    "            torchvision.transforms.ToTensor(),\n",
    "            torchvision.transforms.Normalize((0.1307,), (0.3081,))\n",
    "        ])),\n",
    "    batch_size=batch_size_test, shuffle=True)"
   ],
   "metadata": {
    "collapsed": false,
    "pycharm": {
     "name": "#%%\n"
    }
   }
  },
  {
   "cell_type": "code",
   "execution_count": 7,
   "outputs": [],
   "source": [
    "examples = enumerate(test_loader)\n",
    "batch_idx, (example_data, example_targets) = next(examples)"
   ],
   "metadata": {
    "collapsed": false,
    "pycharm": {
     "name": "#%%\n"
    }
   }
  },
  {
   "cell_type": "code",
   "execution_count": 8,
   "outputs": [
    {
     "data": {
      "text/plain": "<Figure size 432x288 with 6 Axes>",
      "image/png": "[encoded data removed]"
     },
     "execution_count": 8,
     "metadata": {},
     "output_type": "execute_result"
    },
    {
     "data": {
      "text/plain": "<Figure size 432x288 with 6 Axes>",
      "image/png": "[encoded data removed]"
     },
     "metadata": {},
     "output_type": "display_data"
    }
   ],
   "source": [
    "import matplotlib.pyplot as plt\n",
    "\n",
    "fig = plt.figure()\n",
    "for i in range(6):\n",
    "  plt.subplot(2,3,i+1)\n",
    "  plt.tight_layout()\n",
    "  plt.imshow(example_data[i][0], cmap='gray', interpolation='none')\n",
    "  plt.title(\"Ground Truth: {}\".format(example_targets[i]))\n",
    "  plt.xticks([])\n",
    "  plt.yticks([])\n",
    "fig"
   ],
   "metadata": {
    "collapsed": false,
    "pycharm": {
     "name": "#%%\n"
    }
   }
  },
  {
   "cell_type": "code",
   "execution_count": 9,
   "outputs": [],
   "source": [
    "import torch.nn as nn\n",
    "import torch.nn.functional as F\n",
    "import torch.optim as optim"
   ],
   "metadata": {
    "collapsed": false,
    "pycharm": {
     "name": "#%%\n"
    }
   }
  },
  {
   "cell_type": "code",
   "execution_count": 10,
   "outputs": [],
   "source": [
    "class Net(nn.Module):\n",
    "    def __init__(self):\n",
    "        super(Net, self).__init__()\n",
    "        self.conv1 = nn.Conv2d(1, 10, kernel_size=5)\n",
    "        self.conv2 = nn.Conv2d(10, 20, kernel_size=5)\n",
    "        self.conv2_drop = nn.Dropout2d()\n",
    "        self.fc1 = nn.Linear(320, 50)\n",
    "        self.fc2 = nn.Linear(50, 10)\n",
    "\n",
    "    def forward(self, x):\n",
    "        x = F.relu(F.max_pool2d(self.conv1(x), 2))\n",
    "        x = F.relu(F.max_pool2d(self.conv2_drop(self.conv2(x)), 2))\n",
    "        x = x.view(-1, 320)\n",
    "        x = F.relu(self.fc1(x))\n",
    "        x = F.dropout(x, training=self.training)\n",
    "        x = self.fc2(x)\n",
    "        return F.log_softmax(x)"
   ],
   "metadata": {
    "collapsed": false,
    "pycharm": {
     "name": "#%%\n"
    }
   }
  },
  {
   "cell_type": "code",
   "execution_count": 11,
   "outputs": [],
   "source": [
    "network = Net()\n",
    "optimizer = optim.SGD(network.parameters(), lr=learning_rate,\n",
    "                      momentum=momentum)"
   ],
   "metadata": {
    "collapsed": false,
    "pycharm": {
     "name": "#%%\n"
    }
   }
  },
  {
   "cell_type": "code",
   "execution_count": 12,
   "outputs": [],
   "source": [
    "train_losses = []\n",
    "train_counter = []\n",
    "test_losses = []\n",
    "test_counter = [i*len(train_loader.dataset) for i in range(n_epochs + 1)]"
   ],
   "metadata": {
    "collapsed": false,
    "pycharm": {
     "name": "#%%\n"
    }
   }
  },
  {
   "cell_type": "code",
   "execution_count": 16,
   "outputs": [],
   "source": [
    "def train(epoch):\n",
    "  network.train()\n",
    "  for batch_idx, (data, target) in enumerate(train_loader):\n",
    "    optimizer.zero_grad()\n",
    "    output = network(data)\n",
    "    loss = F.nll_loss(output, target)\n",
    "    loss.backward()\n",
    "    optimizer.step()\n",
    "    if batch_idx % log_interval == 0:\n",
    "      print('Train Epoch: {} [{}/{} ({:.0f}%)]\\tLoss: {:.6f}'.format(\n",
    "        epoch, batch_idx * len(data), len(train_loader.dataset),\n",
    "        100. * batch_idx / len(train_loader), loss.item()))\n",
    "      train_losses.append(loss.item())\n",
    "      train_counter.append(\n",
    "        (batch_idx*64) + ((epoch-1)*len(train_loader.dataset)))\n",
    "      torch.save(network.state_dict(), '../results/model.pth')\n",
    "      torch.save(optimizer.state_dict(), '../results/optimizer.pth')"
   ],
   "metadata": {
    "collapsed": false,
    "pycharm": {
     "name": "#%%\n"
    }
   }
  },
  {
   "cell_type": "code",
   "execution_count": 17,
   "outputs": [],
   "source": [
    "def test():\n",
    "  network.eval()\n",
    "  test_loss = 0\n",
    "  correct = 0\n",
    "  with torch.no_grad():\n",
    "    for data, target in test_loader:\n",
    "      output = network(data)\n",
    "      test_loss += F.nll_loss(output, target, size_average=False).item()\n",
    "      pred = output.data.max(1, keepdim=True)[1]\n",
    "      correct += pred.eq(target.data.view_as(pred)).sum()\n",
    "  test_loss /= len(test_loader.dataset)\n",
    "  test_losses.append(test_loss)\n",
    "  print('\\nTest set: Avg. loss: {:.4f}, Accuracy: {}/{} ({:.0f}%)\\n'.format(\n",
    "    test_loss, correct, len(test_loader.dataset),\n",
    "    100. * correct / len(test_loader.dataset)))"
   ],
   "metadata": {
    "collapsed": false,
    "pycharm": {
     "name": "#%%\n"
    }
   }
  },
  {
   "cell_type": "code",
   "execution_count": 18,
   "outputs": [
    {
     "name": "stderr",
     "output_type": "stream",
     "text": [
      "/var/folders/b2/ybzqqdk538s60ppvpsh_9q2m0000gn/T/ipykernel_50832/3852267798.py:17: UserWarning: Implicit dimension choice for log_softmax has been deprecated. Change the call to include dim=X as an argument.\n",
      "  return F.log_softmax(x)\n",
      "/Users/lodovicoazzini/Repos/USI-MSDE/III/Thesis_no_sync/opening-the-black-box_no_sync/venv/lib/python3.9/site-packages/torch/nn/_reduction.py:42: UserWarning: size_average and reduce args will be deprecated, please use reduction='sum' instead.\n",
      "  warnings.warn(warning.format(ret))\n"
     ]
    },
    {
     "name": "stdout",
     "output_type": "stream",
     "text": [
      "\n",
      "Test set: Avg. loss: 2.3084, Accuracy: 923/10000 (9%)\n",
      "\n",
      "Train Epoch: 1 [0/60000 (0%)]\tLoss: 2.324247\n",
      "Train Epoch: 1 [640/60000 (1%)]\tLoss: 2.273413\n",
      "Train Epoch: 1 [1280/60000 (2%)]\tLoss: 2.252027\n",
      "Train Epoch: 1 [1920/60000 (3%)]\tLoss: 2.279411\n",
      "Train Epoch: 1 [2560/60000 (4%)]\tLoss: 2.259859\n",
      "Train Epoch: 1 [3200/60000 (5%)]\tLoss: 2.255871\n",
      "Train Epoch: 1 [3840/60000 (6%)]\tLoss: 2.175713\n",
      "Train Epoch: 1 [4480/60000 (7%)]\tLoss: 2.212805\n",
      "Train Epoch: 1 [5120/60000 (9%)]\tLoss: 2.093185\n",
      "Train Epoch: 1 [5760/60000 (10%)]\tLoss: 2.029723\n",
      "Train Epoch: 1 [6400/60000 (11%)]\tLoss: 1.901314\n",
      "Train Epoch: 1 [7040/60000 (12%)]\tLoss: 1.907668\n",
      "Train Epoch: 1 [7680/60000 (13%)]\tLoss: 1.777701\n",
      "Train Epoch: 1 [8320/60000 (14%)]\tLoss: 1.564114\n",
      "Train Epoch: 1 [8960/60000 (15%)]\tLoss: 1.369018\n",
      "Train Epoch: 1 [9600/60000 (16%)]\tLoss: 1.345432\n",
      "Train Epoch: 1 [10240/60000 (17%)]\tLoss: 1.406255\n",
      "Train Epoch: 1 [10880/60000 (18%)]\tLoss: 1.167964\n",
      "Train Epoch: 1 [11520/60000 (19%)]\tLoss: 1.430185\n",
      "Train Epoch: 1 [12160/60000 (20%)]\tLoss: 1.225760\n",
      "Train Epoch: 1 [12800/60000 (21%)]\tLoss: 1.081967\n",
      "Train Epoch: 1 [13440/60000 (22%)]\tLoss: 1.058360\n",
      "Train Epoch: 1 [14080/60000 (23%)]\tLoss: 1.321690\n",
      "Train Epoch: 1 [14720/60000 (25%)]\tLoss: 1.097609\n",
      "Train Epoch: 1 [15360/60000 (26%)]\tLoss: 0.977902\n",
      "Train Epoch: 1 [16000/60000 (27%)]\tLoss: 0.992847\n",
      "Train Epoch: 1 [16640/60000 (28%)]\tLoss: 1.209337\n",
      "Train Epoch: 1 [17280/60000 (29%)]\tLoss: 0.873801\n",
      "Train Epoch: 1 [17920/60000 (30%)]\tLoss: 0.950033\n",
      "Train Epoch: 1 [18560/60000 (31%)]\tLoss: 0.862424\n",
      "Train Epoch: 1 [19200/60000 (32%)]\tLoss: 0.792635\n",
      "Train Epoch: 1 [19840/60000 (33%)]\tLoss: 0.715658\n",
      "Train Epoch: 1 [20480/60000 (34%)]\tLoss: 0.928717\n",
      "Train Epoch: 1 [21120/60000 (35%)]\tLoss: 0.729515\n",
      "Train Epoch: 1 [21760/60000 (36%)]\tLoss: 0.685234\n",
      "Train Epoch: 1 [22400/60000 (37%)]\tLoss: 0.759988\n",
      "Train Epoch: 1 [23040/60000 (38%)]\tLoss: 0.570016\n",
      "Train Epoch: 1 [23680/60000 (39%)]\tLoss: 0.728797\n",
      "Train Epoch: 1 [24320/60000 (41%)]\tLoss: 0.759778\n",
      "Train Epoch: 1 [24960/60000 (42%)]\tLoss: 0.772270\n",
      "Train Epoch: 1 [25600/60000 (43%)]\tLoss: 0.663714\n",
      "Train Epoch: 1 [26240/60000 (44%)]\tLoss: 0.526203\n",
      "Train Epoch: 1 [26880/60000 (45%)]\tLoss: 0.531012\n",
      "Train Epoch: 1 [27520/60000 (46%)]\tLoss: 0.447924\n",
      "Train Epoch: 1 [28160/60000 (47%)]\tLoss: 0.712237\n",
      "Train Epoch: 1 [28800/60000 (48%)]\tLoss: 0.615754\n",
      "Train Epoch: 1 [29440/60000 (49%)]\tLoss: 0.585283\n",
      "Train Epoch: 1 [30080/60000 (50%)]\tLoss: 0.468361\n",
      "Train Epoch: 1 [30720/60000 (51%)]\tLoss: 0.722397\n",
      "Train Epoch: 1 [31360/60000 (52%)]\tLoss: 0.602414\n",
      "Train Epoch: 1 [32000/60000 (53%)]\tLoss: 0.471987\n",
      "Train Epoch: 1 [32640/60000 (54%)]\tLoss: 0.794990\n",
      "Train Epoch: 1 [33280/60000 (55%)]\tLoss: 0.558112\n",
      "Train Epoch: 1 [33920/60000 (57%)]\tLoss: 0.795308\n",
      "Train Epoch: 1 [34560/60000 (58%)]\tLoss: 0.709477\n",
      "Train Epoch: 1 [35200/60000 (59%)]\tLoss: 0.472468\n",
      "Train Epoch: 1 [35840/60000 (60%)]\tLoss: 0.902524\n",
      "Train Epoch: 1 [36480/60000 (61%)]\tLoss: 0.553825\n",
      "Train Epoch: 1 [37120/60000 (62%)]\tLoss: 0.271738\n",
      "Train Epoch: 1 [37760/60000 (63%)]\tLoss: 0.426680\n",
      "Train Epoch: 1 [38400/60000 (64%)]\tLoss: 0.782003\n",
      "Train Epoch: 1 [39040/60000 (65%)]\tLoss: 0.729116\n",
      "Train Epoch: 1 [39680/60000 (66%)]\tLoss: 0.756620\n",
      "Train Epoch: 1 [40320/60000 (67%)]\tLoss: 0.656922\n",
      "Train Epoch: 1 [40960/60000 (68%)]\tLoss: 0.751709\n",
      "Train Epoch: 1 [41600/60000 (69%)]\tLoss: 0.501591\n",
      "Train Epoch: 1 [42240/60000 (70%)]\tLoss: 0.663234\n",
      "Train Epoch: 1 [42880/60000 (71%)]\tLoss: 0.331390\n",
      "Train Epoch: 1 [43520/60000 (72%)]\tLoss: 0.502134\n",
      "Train Epoch: 1 [44160/60000 (74%)]\tLoss: 0.825066\n",
      "Train Epoch: 1 [44800/60000 (75%)]\tLoss: 0.529257\n",
      "Train Epoch: 1 [45440/60000 (76%)]\tLoss: 0.482742\n",
      "Train Epoch: 1 [46080/60000 (77%)]\tLoss: 0.485103\n",
      "Train Epoch: 1 [46720/60000 (78%)]\tLoss: 0.550665\n",
      "Train Epoch: 1 [47360/60000 (79%)]\tLoss: 0.505422\n",
      "Train Epoch: 1 [48000/60000 (80%)]\tLoss: 0.574155\n",
      "Train Epoch: 1 [48640/60000 (81%)]\tLoss: 0.912870\n",
      "Train Epoch: 1 [49280/60000 (82%)]\tLoss: 0.549952\n",
      "Train Epoch: 1 [49920/60000 (83%)]\tLoss: 0.520943\n",
      "Train Epoch: 1 [50560/60000 (84%)]\tLoss: 0.522334\n",
      "Train Epoch: 1 [51200/60000 (85%)]\tLoss: 0.667431\n",
      "Train Epoch: 1 [51840/60000 (86%)]\tLoss: 0.768085\n",
      "Train Epoch: 1 [52480/60000 (87%)]\tLoss: 0.553239\n",
      "Train Epoch: 1 [53120/60000 (88%)]\tLoss: 0.494244\n",
      "Train Epoch: 1 [53760/60000 (90%)]\tLoss: 0.624142\n",
      "Train Epoch: 1 [54400/60000 (91%)]\tLoss: 0.347772\n",
      "Train Epoch: 1 [55040/60000 (92%)]\tLoss: 0.496676\n",
      "Train Epoch: 1 [55680/60000 (93%)]\tLoss: 0.714580\n",
      "Train Epoch: 1 [56320/60000 (94%)]\tLoss: 0.536163\n",
      "Train Epoch: 1 [56960/60000 (95%)]\tLoss: 0.482291\n",
      "Train Epoch: 1 [57600/60000 (96%)]\tLoss: 0.323319\n",
      "Train Epoch: 1 [58240/60000 (97%)]\tLoss: 0.431821\n",
      "Train Epoch: 1 [58880/60000 (98%)]\tLoss: 0.395913\n",
      "Train Epoch: 1 [59520/60000 (99%)]\tLoss: 0.593297\n",
      "\n",
      "Test set: Avg. loss: 0.1846, Accuracy: 9460/10000 (95%)\n",
      "\n",
      "Train Epoch: 2 [0/60000 (0%)]\tLoss: 0.375834\n",
      "Train Epoch: 2 [640/60000 (1%)]\tLoss: 0.594561\n",
      "Train Epoch: 2 [1280/60000 (2%)]\tLoss: 0.405288\n",
      "Train Epoch: 2 [1920/60000 (3%)]\tLoss: 0.356852\n",
      "Train Epoch: 2 [2560/60000 (4%)]\tLoss: 0.670821\n",
      "Train Epoch: 2 [3200/60000 (5%)]\tLoss: 0.536217\n",
      "Train Epoch: 2 [3840/60000 (6%)]\tLoss: 0.561149\n",
      "Train Epoch: 2 [4480/60000 (7%)]\tLoss: 0.441164\n",
      "Train Epoch: 2 [5120/60000 (9%)]\tLoss: 0.473875\n",
      "Train Epoch: 2 [5760/60000 (10%)]\tLoss: 0.345265\n",
      "Train Epoch: 2 [6400/60000 (11%)]\tLoss: 0.341148\n",
      "Train Epoch: 2 [7040/60000 (12%)]\tLoss: 0.545729\n",
      "Train Epoch: 2 [7680/60000 (13%)]\tLoss: 0.381729\n",
      "Train Epoch: 2 [8320/60000 (14%)]\tLoss: 0.504767\n",
      "Train Epoch: 2 [8960/60000 (15%)]\tLoss: 0.243062\n",
      "Train Epoch: 2 [9600/60000 (16%)]\tLoss: 0.515124\n",
      "Train Epoch: 2 [10240/60000 (17%)]\tLoss: 0.502095\n",
      "Train Epoch: 2 [10880/60000 (18%)]\tLoss: 0.218645\n",
      "Train Epoch: 2 [11520/60000 (19%)]\tLoss: 0.330391\n",
      "Train Epoch: 2 [12160/60000 (20%)]\tLoss: 0.450820\n",
      "Train Epoch: 2 [12800/60000 (21%)]\tLoss: 0.557751\n",
      "Train Epoch: 2 [13440/60000 (22%)]\tLoss: 0.526984\n",
      "Train Epoch: 2 [14080/60000 (23%)]\tLoss: 0.397883\n",
      "Train Epoch: 2 [14720/60000 (25%)]\tLoss: 0.342170\n",
      "Train Epoch: 2 [15360/60000 (26%)]\tLoss: 0.628043\n",
      "Train Epoch: 2 [16000/60000 (27%)]\tLoss: 0.297498\n",
      "Train Epoch: 2 [16640/60000 (28%)]\tLoss: 0.352182\n",
      "Train Epoch: 2 [17280/60000 (29%)]\tLoss: 0.235833\n",
      "Train Epoch: 2 [17920/60000 (30%)]\tLoss: 0.226005\n",
      "Train Epoch: 2 [18560/60000 (31%)]\tLoss: 0.350439\n",
      "Train Epoch: 2 [19200/60000 (32%)]\tLoss: 0.391007\n",
      "Train Epoch: 2 [19840/60000 (33%)]\tLoss: 0.237105\n",
      "Train Epoch: 2 [20480/60000 (34%)]\tLoss: 0.236403\n",
      "Train Epoch: 2 [21120/60000 (35%)]\tLoss: 0.579271\n",
      "Train Epoch: 2 [21760/60000 (36%)]\tLoss: 0.295088\n",
      "Train Epoch: 2 [22400/60000 (37%)]\tLoss: 0.255297\n",
      "Train Epoch: 2 [23040/60000 (38%)]\tLoss: 0.597847\n",
      "Train Epoch: 2 [23680/60000 (39%)]\tLoss: 0.393294\n",
      "Train Epoch: 2 [24320/60000 (41%)]\tLoss: 0.212346\n",
      "Train Epoch: 2 [24960/60000 (42%)]\tLoss: 0.463571\n",
      "Train Epoch: 2 [25600/60000 (43%)]\tLoss: 0.355735\n",
      "Train Epoch: 2 [26240/60000 (44%)]\tLoss: 0.539222\n",
      "Train Epoch: 2 [26880/60000 (45%)]\tLoss: 0.562303\n",
      "Train Epoch: 2 [27520/60000 (46%)]\tLoss: 0.393622\n",
      "Train Epoch: 2 [28160/60000 (47%)]\tLoss: 0.573493\n",
      "Train Epoch: 2 [28800/60000 (48%)]\tLoss: 0.522612\n",
      "Train Epoch: 2 [29440/60000 (49%)]\tLoss: 0.169948\n",
      "Train Epoch: 2 [30080/60000 (50%)]\tLoss: 0.258357\n",
      "Train Epoch: 2 [30720/60000 (51%)]\tLoss: 0.292533\n",
      "Train Epoch: 2 [31360/60000 (52%)]\tLoss: 0.353534\n",
      "Train Epoch: 2 [32000/60000 (53%)]\tLoss: 0.301122\n",
      "Train Epoch: 2 [32640/60000 (54%)]\tLoss: 0.500288\n",
      "Train Epoch: 2 [33280/60000 (55%)]\tLoss: 0.331532\n",
      "Train Epoch: 2 [33920/60000 (57%)]\tLoss: 0.496856\n",
      "Train Epoch: 2 [34560/60000 (58%)]\tLoss: 0.234079\n",
      "Train Epoch: 2 [35200/60000 (59%)]\tLoss: 0.300389\n",
      "Train Epoch: 2 [35840/60000 (60%)]\tLoss: 0.243207\n",
      "Train Epoch: 2 [36480/60000 (61%)]\tLoss: 0.335942\n",
      "Train Epoch: 2 [37120/60000 (62%)]\tLoss: 0.247208\n",
      "Train Epoch: 2 [37760/60000 (63%)]\tLoss: 0.434683\n",
      "Train Epoch: 2 [38400/60000 (64%)]\tLoss: 0.184939\n",
      "Train Epoch: 2 [39040/60000 (65%)]\tLoss: 0.337170\n",
      "Train Epoch: 2 [39680/60000 (66%)]\tLoss: 0.331516\n",
      "Train Epoch: 2 [40320/60000 (67%)]\tLoss: 0.351521\n",
      "Train Epoch: 2 [40960/60000 (68%)]\tLoss: 0.192421\n",
      "Train Epoch: 2 [41600/60000 (69%)]\tLoss: 0.276384\n",
      "Train Epoch: 2 [42240/60000 (70%)]\tLoss: 0.384272\n",
      "Train Epoch: 2 [42880/60000 (71%)]\tLoss: 0.365379\n",
      "Train Epoch: 2 [43520/60000 (72%)]\tLoss: 0.443330\n",
      "Train Epoch: 2 [44160/60000 (74%)]\tLoss: 0.264590\n",
      "Train Epoch: 2 [44800/60000 (75%)]\tLoss: 0.425961\n",
      "Train Epoch: 2 [45440/60000 (76%)]\tLoss: 0.306410\n",
      "Train Epoch: 2 [46080/60000 (77%)]\tLoss: 0.302434\n",
      "Train Epoch: 2 [46720/60000 (78%)]\tLoss: 0.334489\n",
      "Train Epoch: 2 [47360/60000 (79%)]\tLoss: 0.159217\n",
      "Train Epoch: 2 [48000/60000 (80%)]\tLoss: 0.199718\n",
      "Train Epoch: 2 [48640/60000 (81%)]\tLoss: 0.392417\n",
      "Train Epoch: 2 [49280/60000 (82%)]\tLoss: 0.474988\n",
      "Train Epoch: 2 [49920/60000 (83%)]\tLoss: 0.228559\n",
      "Train Epoch: 2 [50560/60000 (84%)]\tLoss: 0.379798\n",
      "Train Epoch: 2 [51200/60000 (85%)]\tLoss: 0.259722\n",
      "Train Epoch: 2 [51840/60000 (86%)]\tLoss: 0.257917\n",
      "Train Epoch: 2 [52480/60000 (87%)]\tLoss: 0.158099\n",
      "Train Epoch: 2 [53120/60000 (88%)]\tLoss: 0.258146\n",
      "Train Epoch: 2 [53760/60000 (90%)]\tLoss: 0.394205\n",
      "Train Epoch: 2 [54400/60000 (91%)]\tLoss: 0.508336\n",
      "Train Epoch: 2 [55040/60000 (92%)]\tLoss: 0.299057\n",
      "Train Epoch: 2 [55680/60000 (93%)]\tLoss: 0.335943\n",
      "Train Epoch: 2 [56320/60000 (94%)]\tLoss: 0.329778\n",
      "Train Epoch: 2 [56960/60000 (95%)]\tLoss: 0.292031\n",
      "Train Epoch: 2 [57600/60000 (96%)]\tLoss: 0.541676\n",
      "Train Epoch: 2 [58240/60000 (97%)]\tLoss: 0.413006\n",
      "Train Epoch: 2 [58880/60000 (98%)]\tLoss: 0.506962\n",
      "Train Epoch: 2 [59520/60000 (99%)]\tLoss: 0.307331\n",
      "\n",
      "Test set: Avg. loss: 0.1204, Accuracy: 9641/10000 (96%)\n",
      "\n",
      "Train Epoch: 3 [0/60000 (0%)]\tLoss: 0.238672\n",
      "Train Epoch: 3 [640/60000 (1%)]\tLoss: 0.386859\n",
      "Train Epoch: 3 [1280/60000 (2%)]\tLoss: 0.386823\n",
      "Train Epoch: 3 [1920/60000 (3%)]\tLoss: 0.389476\n",
      "Train Epoch: 3 [2560/60000 (4%)]\tLoss: 0.446951\n",
      "Train Epoch: 3 [3200/60000 (5%)]\tLoss: 0.332844\n",
      "Train Epoch: 3 [3840/60000 (6%)]\tLoss: 0.329271\n",
      "Train Epoch: 3 [4480/60000 (7%)]\tLoss: 0.294743\n",
      "Train Epoch: 3 [5120/60000 (9%)]\tLoss: 0.347371\n",
      "Train Epoch: 3 [5760/60000 (10%)]\tLoss: 0.483590\n",
      "Train Epoch: 3 [6400/60000 (11%)]\tLoss: 0.225366\n",
      "Train Epoch: 3 [7040/60000 (12%)]\tLoss: 0.279578\n",
      "Train Epoch: 3 [7680/60000 (13%)]\tLoss: 0.255465\n",
      "Train Epoch: 3 [8320/60000 (14%)]\tLoss: 0.267822\n",
      "Train Epoch: 3 [8960/60000 (15%)]\tLoss: 0.243922\n",
      "Train Epoch: 3 [9600/60000 (16%)]\tLoss: 0.278215\n",
      "Train Epoch: 3 [10240/60000 (17%)]\tLoss: 0.269973\n",
      "Train Epoch: 3 [10880/60000 (18%)]\tLoss: 0.499047\n",
      "Train Epoch: 3 [11520/60000 (19%)]\tLoss: 0.357204\n",
      "Train Epoch: 3 [12160/60000 (20%)]\tLoss: 0.385922\n",
      "Train Epoch: 3 [12800/60000 (21%)]\tLoss: 0.271608\n",
      "Train Epoch: 3 [13440/60000 (22%)]\tLoss: 0.250800\n",
      "Train Epoch: 3 [14080/60000 (23%)]\tLoss: 0.354063\n",
      "Train Epoch: 3 [14720/60000 (25%)]\tLoss: 0.266900\n",
      "Train Epoch: 3 [15360/60000 (26%)]\tLoss: 0.300217\n",
      "Train Epoch: 3 [16000/60000 (27%)]\tLoss: 0.266434\n",
      "Train Epoch: 3 [16640/60000 (28%)]\tLoss: 0.347392\n",
      "Train Epoch: 3 [17280/60000 (29%)]\tLoss: 0.362895\n",
      "Train Epoch: 3 [17920/60000 (30%)]\tLoss: 0.205697\n",
      "Train Epoch: 3 [18560/60000 (31%)]\tLoss: 0.321960\n",
      "Train Epoch: 3 [19200/60000 (32%)]\tLoss: 0.260077\n",
      "Train Epoch: 3 [19840/60000 (33%)]\tLoss: 0.198294\n",
      "Train Epoch: 3 [20480/60000 (34%)]\tLoss: 0.285804\n",
      "Train Epoch: 3 [21120/60000 (35%)]\tLoss: 0.305714\n",
      "Train Epoch: 3 [21760/60000 (36%)]\tLoss: 0.347903\n",
      "Train Epoch: 3 [22400/60000 (37%)]\tLoss: 0.409903\n",
      "Train Epoch: 3 [23040/60000 (38%)]\tLoss: 0.331624\n",
      "Train Epoch: 3 [23680/60000 (39%)]\tLoss: 0.368661\n",
      "Train Epoch: 3 [24320/60000 (41%)]\tLoss: 0.205864\n",
      "Train Epoch: 3 [24960/60000 (42%)]\tLoss: 0.272829\n",
      "Train Epoch: 3 [25600/60000 (43%)]\tLoss: 0.158540\n",
      "Train Epoch: 3 [26240/60000 (44%)]\tLoss: 0.509340\n",
      "Train Epoch: 3 [26880/60000 (45%)]\tLoss: 0.377540\n",
      "Train Epoch: 3 [27520/60000 (46%)]\tLoss: 0.238256\n",
      "Train Epoch: 3 [28160/60000 (47%)]\tLoss: 0.241410\n",
      "Train Epoch: 3 [28800/60000 (48%)]\tLoss: 0.351870\n",
      "Train Epoch: 3 [29440/60000 (49%)]\tLoss: 0.304891\n",
      "Train Epoch: 3 [30080/60000 (50%)]\tLoss: 0.247838\n",
      "Train Epoch: 3 [30720/60000 (51%)]\tLoss: 0.276275\n",
      "Train Epoch: 3 [31360/60000 (52%)]\tLoss: 0.205902\n",
      "Train Epoch: 3 [32000/60000 (53%)]\tLoss: 0.471057\n",
      "Train Epoch: 3 [32640/60000 (54%)]\tLoss: 0.623543\n",
      "Train Epoch: 3 [33280/60000 (55%)]\tLoss: 0.175862\n",
      "Train Epoch: 3 [33920/60000 (57%)]\tLoss: 0.272467\n",
      "Train Epoch: 3 [34560/60000 (58%)]\tLoss: 0.303355\n",
      "Train Epoch: 3 [35200/60000 (59%)]\tLoss: 0.360452\n",
      "Train Epoch: 3 [35840/60000 (60%)]\tLoss: 0.210430\n",
      "Train Epoch: 3 [36480/60000 (61%)]\tLoss: 0.329540\n",
      "Train Epoch: 3 [37120/60000 (62%)]\tLoss: 0.250015\n",
      "Train Epoch: 3 [37760/60000 (63%)]\tLoss: 0.463498\n",
      "Train Epoch: 3 [38400/60000 (64%)]\tLoss: 0.437473\n",
      "Train Epoch: 3 [39040/60000 (65%)]\tLoss: 0.293967\n",
      "Train Epoch: 3 [39680/60000 (66%)]\tLoss: 0.428094\n",
      "Train Epoch: 3 [40320/60000 (67%)]\tLoss: 0.369993\n",
      "Train Epoch: 3 [40960/60000 (68%)]\tLoss: 0.231694\n",
      "Train Epoch: 3 [41600/60000 (69%)]\tLoss: 0.247148\n",
      "Train Epoch: 3 [42240/60000 (70%)]\tLoss: 0.255354\n",
      "Train Epoch: 3 [42880/60000 (71%)]\tLoss: 0.257723\n",
      "Train Epoch: 3 [43520/60000 (72%)]\tLoss: 0.387906\n",
      "Train Epoch: 3 [44160/60000 (74%)]\tLoss: 0.211781\n",
      "Train Epoch: 3 [44800/60000 (75%)]\tLoss: 0.453170\n",
      "Train Epoch: 3 [45440/60000 (76%)]\tLoss: 0.227206\n",
      "Train Epoch: 3 [46080/60000 (77%)]\tLoss: 0.266504\n",
      "Train Epoch: 3 [46720/60000 (78%)]\tLoss: 0.314600\n",
      "Train Epoch: 3 [47360/60000 (79%)]\tLoss: 0.444963\n",
      "Train Epoch: 3 [48000/60000 (80%)]\tLoss: 0.349070\n",
      "Train Epoch: 3 [48640/60000 (81%)]\tLoss: 0.319160\n",
      "Train Epoch: 3 [49280/60000 (82%)]\tLoss: 0.491018\n",
      "Train Epoch: 3 [49920/60000 (83%)]\tLoss: 0.455112\n",
      "Train Epoch: 3 [50560/60000 (84%)]\tLoss: 0.186195\n",
      "Train Epoch: 3 [51200/60000 (85%)]\tLoss: 0.426480\n",
      "Train Epoch: 3 [51840/60000 (86%)]\tLoss: 0.196300\n",
      "Train Epoch: 3 [52480/60000 (87%)]\tLoss: 0.307850\n",
      "Train Epoch: 3 [53120/60000 (88%)]\tLoss: 0.204260\n",
      "Train Epoch: 3 [53760/60000 (90%)]\tLoss: 0.132187\n",
      "Train Epoch: 3 [54400/60000 (91%)]\tLoss: 0.307269\n",
      "Train Epoch: 3 [55040/60000 (92%)]\tLoss: 0.284227\n",
      "Train Epoch: 3 [55680/60000 (93%)]\tLoss: 0.347100\n",
      "Train Epoch: 3 [56320/60000 (94%)]\tLoss: 0.522412\n",
      "Train Epoch: 3 [56960/60000 (95%)]\tLoss: 0.253539\n",
      "Train Epoch: 3 [57600/60000 (96%)]\tLoss: 0.231053\n",
      "Train Epoch: 3 [58240/60000 (97%)]\tLoss: 0.269507\n",
      "Train Epoch: 3 [58880/60000 (98%)]\tLoss: 0.443330\n",
      "Train Epoch: 3 [59520/60000 (99%)]\tLoss: 0.412793\n",
      "\n",
      "Test set: Avg. loss: 0.0974, Accuracy: 9700/10000 (97%)\n",
      "\n"
     ]
    }
   ],
   "source": [
    "test()\n",
    "for epoch in range(1, n_epochs + 1):\n",
    "  train(epoch)\n",
    "  test()"
   ],
   "metadata": {
    "collapsed": false,
    "pycharm": {
     "name": "#%%\n"
    }
   }
  },
  {
   "cell_type": "code",
   "execution_count": 22,
   "outputs": [
    {
     "data": {
      "text/plain": "<Figure size 432x288 with 1 Axes>",
      "image/png": "[encoded data removed]"
     },
     "execution_count": 22,
     "metadata": {},
     "output_type": "execute_result"
    },
    {
     "data": {
      "text/plain": "<Figure size 432x288 with 1 Axes>",
      "image/png": "[encoded data removed]"
     },
     "metadata": {
      "needs_background": "light"
     },
     "output_type": "display_data"
    }
   ],
   "source": [
    "fig = plt.figure()\n",
    "plt.plot(train_counter, train_losses, color='blue')\n",
    "# plt.scatter(test_counter, test_losses, color='red')\n",
    "plt.legend(['Train Loss', 'Test Loss'], loc='upper right')\n",
    "plt.xlabel('number of training examples seen')\n",
    "plt.ylabel('negative log likelihood loss')\n",
    "fig"
   ],
   "metadata": {
    "collapsed": false,
    "pycharm": {
     "name": "#%%\n"
    }
   }
  },
  {
   "cell_type": "code",
   "execution_count": 23,
   "outputs": [
    {
     "name": "stderr",
     "output_type": "stream",
     "text": [
      "/var/folders/b2/ybzqqdk538s60ppvpsh_9q2m0000gn/T/ipykernel_50832/3852267798.py:17: UserWarning: Implicit dimension choice for log_softmax has been deprecated. Change the call to include dim=X as an argument.\n",
      "  return F.log_softmax(x)\n"
     ]
    }
   ],
   "source": [
    "with torch.no_grad():\n",
    "  output = network(example_data)"
   ],
   "metadata": {
    "collapsed": false,
    "pycharm": {
     "name": "#%%\n"
    }
   }
  },
  {
   "cell_type": "code",
   "execution_count": 24,
   "outputs": [
    {
     "data": {
      "text/plain": "<Figure size 432x288 with 6 Axes>",
      "image/png": "[encoded data removed]"
     },
     "execution_count": 24,
     "metadata": {},
     "output_type": "execute_result"
    },
    {
     "data": {
      "text/plain": "<Figure size 432x288 with 6 Axes>",
      "image/png": "[encoded data removed]"
     },
     "metadata": {},
     "output_type": "display_data"
    }
   ],
   "source": [
    "fig = plt.figure()\n",
    "for i in range(6):\n",
    "  plt.subplot(2,3,i+1)\n",
    "  plt.tight_layout()\n",
    "  plt.imshow(example_data[i][0], cmap='gray', interpolation='none')\n",
    "  plt.title(\"Prediction: {}\".format(\n",
    "    output.data.max(1, keepdim=True)[1][i].item()))\n",
    "  plt.xticks([])\n",
    "  plt.yticks([])\n",
    "fig"
   ],
   "metadata": {
    "collapsed": false,
    "pycharm": {
     "name": "#%%\n"
    }
   }
  },
  {
   "cell_type": "code",
   "execution_count": null,
   "outputs": [],
   "source": [],
   "metadata": {
    "collapsed": false,
    "pycharm": {
     "name": "#%%\n"
    }
   }
  }
 ],
 "metadata": {
  "kernelspec": {
   "display_name": "Python 3",
   "language": "python",
   "name": "python3"
  },
  "language_info": {
   "codemirror_mode": {
    "name": "ipython",
    "version": 2
   },
   "file_extension": ".py",
   "mimetype": "text/x-python",
   "name": "python",
   "nbconvert_exporter": "python",
   "pygments_lexer": "ipython2",
   "version": "2.7.6"
  }
 },
 "nbformat": 4,
 "nbformat_minor": 0
}